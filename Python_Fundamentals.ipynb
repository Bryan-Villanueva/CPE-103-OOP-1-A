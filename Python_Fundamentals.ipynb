{
  "nbformat": 4,
  "nbformat_minor": 0,
  "metadata": {
    "colab": {
      "provenance": [],
      "authorship_tag": "ABX9TyPGRqosX0aZuel8eMctb87Y",
      "include_colab_link": true
    },
    "kernelspec": {
      "name": "python3",
      "display_name": "Python 3"
    },
    "language_info": {
      "name": "python"
    }
  },
  "cells": [
    {
      "cell_type": "markdown",
      "metadata": {
        "id": "view-in-github",
        "colab_type": "text"
      },
      "source": [
        "<a href=\"https://colab.research.google.com/github/Bryan-Villanueva/CPE-103-OOP-1-A/blob/main/Python_Fundamentals.ipynb\" target=\"_parent\"><img src=\"https://colab.research.google.com/assets/colab-badge.svg\" alt=\"Open In Colab\"/></a>"
      ]
    },
    {
      "cell_type": "markdown",
      "source": [
        "Python Indentation"
      ],
      "metadata": {
        "id": "3zuNYivVFgo1"
      }
    },
    {
      "cell_type": "code",
      "source": [
        "if 5>2:\n",
        "  print(\"Five is greater than two!\")"
      ],
      "metadata": {
        "colab": {
          "base_uri": "https://localhost:8080/"
        },
        "id": "US_18js1Gp4m",
        "outputId": "878ab64f-213d-45d7-cc34-88d11fa758dc"
      },
      "execution_count": 5,
      "outputs": [
        {
          "output_type": "stream",
          "name": "stdout",
          "text": [
            "Five is greater than three\n"
          ]
        }
      ]
    },
    {
      "cell_type": "markdown",
      "source": [
        "Python Comments"
      ],
      "metadata": {
        "id": "DSF8QcS5IZj9"
      }
    },
    {
      "cell_type": "code",
      "source": [
        "#This is a comment\n",
        "print(\"Hello, World!\")"
      ],
      "metadata": {
        "colab": {
          "base_uri": "https://localhost:8080/"
        },
        "id": "zZixZ4uiIca1",
        "outputId": "64f25e5e-e470-4f24-9605-ec113431bdc9"
      },
      "execution_count": 8,
      "outputs": [
        {
          "output_type": "stream",
          "name": "stdout",
          "text": [
            "Hello, World!\n"
          ]
        }
      ]
    },
    {
      "cell_type": "markdown",
      "source": [
        "Variable Naming Conventions"
      ],
      "metadata": {
        "id": "0b1FncbeJmDo"
      }
    },
    {
      "cell_type": "code",
      "source": [
        "myvar= \"John\"\n",
        "print(myvar)"
      ],
      "metadata": {
        "colab": {
          "base_uri": "https://localhost:8080/"
        },
        "id": "afLyX5ZEJqIm",
        "outputId": "eebaa500-6392-4ad7-f1ac-349b23f35060"
      },
      "execution_count": 26,
      "outputs": [
        {
          "output_type": "stream",
          "name": "stdout",
          "text": [
            "John\n"
          ]
        }
      ]
    },
    {
      "cell_type": "markdown",
      "source": [
        "Python Variable"
      ],
      "metadata": {
        "id": "tH8U3gXSKTqv"
      }
    },
    {
      "cell_type": "code",
      "source": [
        "x= 1\n",
        "a, b= 0,-1\n",
        "a, b, c= 0, -1, 2\n",
        "print(b)"
      ],
      "metadata": {
        "colab": {
          "base_uri": "https://localhost:8080/"
        },
        "id": "mc5pl8D0KXFV",
        "outputId": "dbdcef07-ac10-4b6d-a4f2-b9369a9db8dd"
      },
      "execution_count": 17,
      "outputs": [
        {
          "output_type": "stream",
          "name": "stdout",
          "text": [
            "-1\n"
          ]
        }
      ]
    },
    {
      "cell_type": "code",
      "source": [
        "b= \"Sally\" #This is a type of string\n",
        "print(b)"
      ],
      "metadata": {
        "colab": {
          "base_uri": "https://localhost:8080/"
        },
        "id": "xu0IQgt0Ksb2",
        "outputId": "497932fb-01f1-464a-e9c1-d1a258196f80"
      },
      "execution_count": 14,
      "outputs": [
        {
          "output_type": "stream",
          "name": "stdout",
          "text": [
            "Sally\n"
          ]
        }
      ]
    },
    {
      "cell_type": "markdown",
      "source": [
        "Casting"
      ],
      "metadata": {
        "id": "d2ZMLVVvLLC3"
      }
    },
    {
      "cell_type": "code",
      "source": [
        "b= \"sally\" #This is a type of string\n",
        "b= int(4)\n",
        "b= float(4)\n",
        "print(b)"
      ],
      "metadata": {
        "colab": {
          "base_uri": "https://localhost:8080/"
        },
        "id": "TiZI7v2HLMwW",
        "outputId": "22f47d68-cd20-4671-a6e0-4e82fce53128"
      },
      "execution_count": 18,
      "outputs": [
        {
          "output_type": "stream",
          "name": "stdout",
          "text": [
            "4.0\n"
          ]
        }
      ]
    },
    {
      "cell_type": "markdown",
      "source": [
        "Type Function"
      ],
      "metadata": {
        "id": "g3o06gJxMNqG"
      }
    },
    {
      "cell_type": "code",
      "source": [
        "x= 5\n",
        "y= \"John\"\n",
        "print(type(x))\n",
        "print(type(y))"
      ],
      "metadata": {
        "colab": {
          "base_uri": "https://localhost:8080/"
        },
        "id": "r1HVO7z1MPQ1",
        "outputId": "78a0c165-9ccd-4bc1-98c0-3a1709d0677a"
      },
      "execution_count": 19,
      "outputs": [
        {
          "output_type": "stream",
          "name": "stdout",
          "text": [
            "<class 'int'>\n",
            "<class 'str'>\n"
          ]
        }
      ]
    },
    {
      "cell_type": "markdown",
      "source": [
        "Double Quotes or Single Quotes"
      ],
      "metadata": {
        "id": "DEh7zN3WNXAG"
      }
    },
    {
      "cell_type": "code",
      "source": [
        "x= \"John\"\n",
        "y= 'john'\n",
        "print(x)\n",
        "print(y)"
      ],
      "metadata": {
        "colab": {
          "base_uri": "https://localhost:8080/"
        },
        "id": "0SIshP48NeVG",
        "outputId": "9940ba74-ef29-428b-8910-163b7b61fd2b"
      },
      "execution_count": 22,
      "outputs": [
        {
          "output_type": "stream",
          "name": "stdout",
          "text": [
            "John\n",
            "john\n"
          ]
        }
      ]
    },
    {
      "cell_type": "markdown",
      "source": [
        "Case Sensitive"
      ],
      "metadata": {
        "id": "9sQgSpj9OFyG"
      }
    },
    {
      "cell_type": "code",
      "source": [
        "a= 4\n",
        "A= \"Sally\"\n",
        "print(A) #A will not overwrite a"
      ],
      "metadata": {
        "colab": {
          "base_uri": "https://localhost:8080/"
        },
        "id": "TX0-UtC3OLJe",
        "outputId": "1ecd4f35-9e4f-4aef-bd47-3f4cf7b761fb"
      },
      "execution_count": 25,
      "outputs": [
        {
          "output_type": "stream",
          "name": "stdout",
          "text": [
            "Sally\n"
          ]
        }
      ]
    },
    {
      "cell_type": "markdown",
      "source": [
        "Multiple Variable"
      ],
      "metadata": {
        "id": "IJZ3ZOpdO2-f"
      }
    },
    {
      "cell_type": "code",
      "source": [
        "x, y, z = \"one\", \"two\", \"three\"\n",
        "print(x)\n",
        "print(y)\n",
        "print(z)"
      ],
      "metadata": {
        "colab": {
          "base_uri": "https://localhost:8080/"
        },
        "id": "S-Y8rMQxPAIe",
        "outputId": "70019b81-a98e-4b14-d341-5aee4e70b031"
      },
      "execution_count": 27,
      "outputs": [
        {
          "output_type": "stream",
          "name": "stdout",
          "text": [
            "one\n",
            "two\n",
            "three\n"
          ]
        }
      ]
    },
    {
      "cell_type": "markdown",
      "source": [
        "One Value to Multiple Variables"
      ],
      "metadata": {
        "id": "OqPfLku1PHKV"
      }
    },
    {
      "cell_type": "code",
      "source": [
        "x=y=z= \"four\"\n",
        "print(x)\n",
        "print(y)\n",
        "print(z)"
      ],
      "metadata": {
        "colab": {
          "base_uri": "https://localhost:8080/"
        },
        "id": "W5R0WKTiPKvt",
        "outputId": "81d01ca4-a037-4711-f2e5-3390a5e1fa10"
      },
      "execution_count": 28,
      "outputs": [
        {
          "output_type": "stream",
          "name": "stdout",
          "text": [
            "four\n",
            "four\n",
            "four\n"
          ]
        }
      ]
    },
    {
      "cell_type": "markdown",
      "source": [
        "Output Variables"
      ],
      "metadata": {
        "id": "aHxlCxWYPSX9"
      }
    },
    {
      "cell_type": "code",
      "source": [
        "x= \"enjoying\"\n",
        "print(\"Python programming is \" + x)"
      ],
      "metadata": {
        "colab": {
          "base_uri": "https://localhost:8080/"
        },
        "id": "d4rZZBhUQCve",
        "outputId": "8c8d50e4-2d43-47ab-f567-9f753bbbfc70"
      },
      "execution_count": 29,
      "outputs": [
        {
          "output_type": "stream",
          "name": "stdout",
          "text": [
            "Python programming is enjoying\n"
          ]
        }
      ]
    },
    {
      "cell_type": "code",
      "source": [
        "x= \"Python is \"\n",
        "y= \"enjoying\"\n",
        "z= x+y\n",
        "print(z)"
      ],
      "metadata": {
        "colab": {
          "base_uri": "https://localhost:8080/"
        },
        "id": "PsmQIsx0QSN9",
        "outputId": "5b84388d-61d1-4c4d-d369-685c16ffca39"
      },
      "execution_count": 30,
      "outputs": [
        {
          "output_type": "stream",
          "name": "stdout",
          "text": [
            "Python is enjoying\n"
          ]
        }
      ]
    },
    {
      "cell_type": "markdown",
      "source": [
        "Arithmetic Operations"
      ],
      "metadata": {
        "id": "Ke2zZfgvQW4f"
      }
    },
    {
      "cell_type": "markdown",
      "source": [
        "Addition"
      ],
      "metadata": {
        "id": "cDUw79qjQrRd"
      }
    },
    {
      "cell_type": "code",
      "source": [
        "x= 5\n",
        "y= 3\n",
        "print (x+y)"
      ],
      "metadata": {
        "colab": {
          "base_uri": "https://localhost:8080/"
        },
        "id": "E1XyzZhNQfcm",
        "outputId": "b662b64c-dc6a-40ce-b718-45de1b55d92c"
      },
      "execution_count": 31,
      "outputs": [
        {
          "output_type": "stream",
          "name": "stdout",
          "text": [
            "8\n"
          ]
        }
      ]
    },
    {
      "cell_type": "code",
      "source": [
        "x=5\n",
        "y=3\n",
        "sum= x+y\n",
        "sum"
      ],
      "metadata": {
        "colab": {
          "base_uri": "https://localhost:8080/"
        },
        "id": "T7HPbJ-CQ_NF",
        "outputId": "fa5c4eee-8029-4600-b229-f1ac7dc62faa"
      },
      "execution_count": 32,
      "outputs": [
        {
          "output_type": "execute_result",
          "data": {
            "text/plain": [
              "8"
            ]
          },
          "metadata": {},
          "execution_count": 32
        }
      ]
    },
    {
      "cell_type": "markdown",
      "source": [
        "Substraction"
      ],
      "metadata": {
        "id": "pn5DMXO2Q4zN"
      }
    },
    {
      "cell_type": "code",
      "source": [
        "x= 5\n",
        "y= 3\n",
        "print (x-y)"
      ],
      "metadata": {
        "colab": {
          "base_uri": "https://localhost:8080/"
        },
        "id": "eAVOoRBlRDyF",
        "outputId": "3eb22a00-ef0f-408b-c287-e8c9d271e0ba"
      },
      "execution_count": 33,
      "outputs": [
        {
          "output_type": "stream",
          "name": "stdout",
          "text": [
            "2\n"
          ]
        }
      ]
    },
    {
      "cell_type": "code",
      "source": [
        "x=5\n",
        "y=3\n",
        "sum= x-y\n",
        "sum"
      ],
      "metadata": {
        "colab": {
          "base_uri": "https://localhost:8080/"
        },
        "id": "D4fss_bERQdd",
        "outputId": "2436d526-24f4-44f1-8b55-74dd3132978e"
      },
      "execution_count": 34,
      "outputs": [
        {
          "output_type": "execute_result",
          "data": {
            "text/plain": [
              "2"
            ]
          },
          "metadata": {},
          "execution_count": 34
        }
      ]
    },
    {
      "cell_type": "markdown",
      "source": [
        "Multiplication"
      ],
      "metadata": {
        "id": "glzflKFWRWdt"
      }
    },
    {
      "cell_type": "code",
      "source": [
        "x= 5\n",
        "y= 3\n",
        "print (x*y)"
      ],
      "metadata": {
        "colab": {
          "base_uri": "https://localhost:8080/"
        },
        "id": "WBZipY5kRYzf",
        "outputId": "6dc22bb5-18c7-4fa0-e560-04205d69dabb"
      },
      "execution_count": 35,
      "outputs": [
        {
          "output_type": "stream",
          "name": "stdout",
          "text": [
            "15\n"
          ]
        }
      ]
    },
    {
      "cell_type": "code",
      "source": [
        "x=5\n",
        "y=3\n",
        "sum= x*y\n",
        "sum"
      ],
      "metadata": {
        "colab": {
          "base_uri": "https://localhost:8080/"
        },
        "id": "F027foO0RdW-",
        "outputId": "3eac186a-1e3e-4a58-e265-f2515b2bc057"
      },
      "execution_count": 36,
      "outputs": [
        {
          "output_type": "execute_result",
          "data": {
            "text/plain": [
              "15"
            ]
          },
          "metadata": {},
          "execution_count": 36
        }
      ]
    },
    {
      "cell_type": "markdown",
      "source": [
        "Division"
      ],
      "metadata": {
        "id": "lGjkbieQRhhG"
      }
    },
    {
      "cell_type": "code",
      "source": [
        "x= 6\n",
        "y= 3\n",
        "print (x/y)"
      ],
      "metadata": {
        "colab": {
          "base_uri": "https://localhost:8080/"
        },
        "id": "ICjNzi6QRjjG",
        "outputId": "988a93e0-214a-497c-93eb-d9d620f2ff98"
      },
      "execution_count": 37,
      "outputs": [
        {
          "output_type": "stream",
          "name": "stdout",
          "text": [
            "2.0\n"
          ]
        }
      ]
    },
    {
      "cell_type": "code",
      "source": [
        "x=6\n",
        "y=3\n",
        "sum= x/y\n",
        "sum"
      ],
      "metadata": {
        "colab": {
          "base_uri": "https://localhost:8080/"
        },
        "id": "c7KfIziWRvg9",
        "outputId": "d96ecae3-d253-4684-e0a1-73937fb88402"
      },
      "execution_count": 38,
      "outputs": [
        {
          "output_type": "execute_result",
          "data": {
            "text/plain": [
              "2.0"
            ]
          },
          "metadata": {},
          "execution_count": 38
        }
      ]
    },
    {
      "cell_type": "markdown",
      "source": [
        "Modulus"
      ],
      "metadata": {
        "id": "hAnrcQmpR0zt"
      }
    },
    {
      "cell_type": "code",
      "source": [
        "x= 6\n",
        "y= 3\n",
        "print (x%y)"
      ],
      "metadata": {
        "colab": {
          "base_uri": "https://localhost:8080/"
        },
        "id": "geGw2qrtR3Fl",
        "outputId": "1cb46464-28af-4234-f774-8482dd12fa81"
      },
      "execution_count": 39,
      "outputs": [
        {
          "output_type": "stream",
          "name": "stdout",
          "text": [
            "0\n"
          ]
        }
      ]
    },
    {
      "cell_type": "code",
      "source": [
        "x=6\n",
        "y=3\n",
        "sum= x%y\n",
        "sum"
      ],
      "metadata": {
        "colab": {
          "base_uri": "https://localhost:8080/"
        },
        "id": "cVSC7S80R7jN",
        "outputId": "cf883eda-239d-4b19-f98a-6fd8d9c4db57"
      },
      "execution_count": 40,
      "outputs": [
        {
          "output_type": "execute_result",
          "data": {
            "text/plain": [
              "0"
            ]
          },
          "metadata": {},
          "execution_count": 40
        }
      ]
    },
    {
      "cell_type": "markdown",
      "source": [
        "Exponentiation"
      ],
      "metadata": {
        "id": "PQY2p4rfR_Id"
      }
    },
    {
      "cell_type": "code",
      "source": [
        "x= 6\n",
        "y= 3\n",
        "print (x**y)"
      ],
      "metadata": {
        "colab": {
          "base_uri": "https://localhost:8080/"
        },
        "id": "xF53oilKSCZV",
        "outputId": "27e4683a-3d81-4277-df99-21181511117a"
      },
      "execution_count": 41,
      "outputs": [
        {
          "output_type": "stream",
          "name": "stdout",
          "text": [
            "216\n"
          ]
        }
      ]
    },
    {
      "cell_type": "code",
      "source": [
        "x=6\n",
        "y=3\n",
        "sum= x**y\n",
        "sum"
      ],
      "metadata": {
        "colab": {
          "base_uri": "https://localhost:8080/"
        },
        "id": "2sJDkRMeSIzV",
        "outputId": "25aa7424-35b8-4eca-9645-4949380f0e77"
      },
      "execution_count": 42,
      "outputs": [
        {
          "output_type": "execute_result",
          "data": {
            "text/plain": [
              "216"
            ]
          },
          "metadata": {},
          "execution_count": 42
        }
      ]
    },
    {
      "cell_type": "markdown",
      "source": [
        "Floor Division"
      ],
      "metadata": {
        "id": "4-zJcRbySNxN"
      }
    },
    {
      "cell_type": "code",
      "source": [
        "x= 6\n",
        "y= 3\n",
        "print (x//y)"
      ],
      "metadata": {
        "colab": {
          "base_uri": "https://localhost:8080/"
        },
        "id": "BfTCuHybSPtG",
        "outputId": "b49f3d85-c03f-4d69-bfe7-aceefcebe818"
      },
      "execution_count": 43,
      "outputs": [
        {
          "output_type": "stream",
          "name": "stdout",
          "text": [
            "2\n"
          ]
        }
      ]
    },
    {
      "cell_type": "code",
      "source": [
        "x=6\n",
        "y=3\n",
        "sum= x//y\n",
        "sum"
      ],
      "metadata": {
        "colab": {
          "base_uri": "https://localhost:8080/"
        },
        "id": "7TOFslvxSVK2",
        "outputId": "95917bc2-fb52-4a79-f0d2-c3b7b9897bcb"
      },
      "execution_count": 44,
      "outputs": [
        {
          "output_type": "execute_result",
          "data": {
            "text/plain": [
              "2"
            ]
          },
          "metadata": {},
          "execution_count": 44
        }
      ]
    },
    {
      "cell_type": "markdown",
      "source": [
        "Assignment Operator"
      ],
      "metadata": {
        "id": "6MrIh2U5SXxu"
      }
    },
    {
      "cell_type": "code",
      "source": [
        "x= 3\n",
        "x*=3 # x = x*3\n",
        "print(x)"
      ],
      "metadata": {
        "colab": {
          "base_uri": "https://localhost:8080/"
        },
        "id": "wG3q02LCSad3",
        "outputId": "538e1338-3369-49b7-f03f-2a84d809f00c"
      },
      "execution_count": 47,
      "outputs": [
        {
          "output_type": "stream",
          "name": "stdout",
          "text": [
            "9\n"
          ]
        }
      ]
    },
    {
      "cell_type": "markdown",
      "source": [
        "Comparison Operators"
      ],
      "metadata": {
        "id": "_CXt_wSBSxRV"
      }
    },
    {
      "cell_type": "code",
      "source": [
        "x= 5\n",
        "y= 3\n",
        "x>y"
      ],
      "metadata": {
        "colab": {
          "base_uri": "https://localhost:8080/"
        },
        "id": "KiYuQJrFS5ie",
        "outputId": "1023bb4f-8eda-430e-e6b8-b3656dc3aa0c"
      },
      "execution_count": 51,
      "outputs": [
        {
          "output_type": "execute_result",
          "data": {
            "text/plain": [
              "True"
            ]
          },
          "metadata": {},
          "execution_count": 51
        }
      ]
    },
    {
      "cell_type": "markdown",
      "source": [
        "Logical Operator"
      ],
      "metadata": {
        "id": "pHpqu1HpTeXw"
      }
    },
    {
      "cell_type": "code",
      "source": [
        "x= 5\n",
        "y=2\n",
        "\n",
        "not (x>y)"
      ],
      "metadata": {
        "colab": {
          "base_uri": "https://localhost:8080/"
        },
        "id": "WLcM_3qgTg-u",
        "outputId": "b0101c6d-a062-4451-dd7f-c2d86838d956"
      },
      "execution_count": 53,
      "outputs": [
        {
          "output_type": "execute_result",
          "data": {
            "text/plain": [
              "False"
            ]
          },
          "metadata": {},
          "execution_count": 53
        }
      ]
    },
    {
      "cell_type": "markdown",
      "source": [
        "Bitwise Operator"
      ],
      "metadata": {
        "id": "RToNLbR-Ur1A"
      }
    },
    {
      "cell_type": "code",
      "source": [
        "# decimal to binary\n",
        "#10 = 1010\n",
        "\n",
        "x = 10\n",
        "x>>1"
      ],
      "metadata": {
        "colab": {
          "base_uri": "https://localhost:8080/"
        },
        "id": "51Ryy1AyUtv2",
        "outputId": "10f1ca05-a254-4b3e-a6d8-5a392263482d"
      },
      "execution_count": 71,
      "outputs": [
        {
          "output_type": "execute_result",
          "data": {
            "text/plain": [
              "5"
            ]
          },
          "metadata": {},
          "execution_count": 71
        }
      ]
    },
    {
      "cell_type": "markdown",
      "source": [
        "Application 1"
      ],
      "metadata": {
        "id": "W6Ce8D-iYSQe"
      }
    },
    {
      "cell_type": "code",
      "source": [
        "#Application 1\n",
        "# Area of Retangle\n",
        "x= input(\"Input the length: \")\n",
        "y= input(\"Input the width: \")\n",
        "\n",
        "area= float(x)*float(y)\n",
        "print(\"The are of rectangle is\", area)"
      ],
      "metadata": {
        "colab": {
          "base_uri": "https://localhost:8080/"
        },
        "id": "UqFGAoKyYUln",
        "outputId": "9bff50d5-3c65-4770-9f9c-683f87571583"
      },
      "execution_count": 89,
      "outputs": [
        {
          "output_type": "stream",
          "name": "stdout",
          "text": [
            "Input the length: 5\n",
            "Input the width: 5\n",
            "The are of rectangle is 25.0\n"
          ]
        }
      ]
    },
    {
      "cell_type": "code",
      "source": [
        "# Area of Triangle\n",
        "x= input(\"Input the base: \")\n",
        "y= input(\"Input the height: \")\n",
        "\n",
        "area= float(x)*float(y)/2\n",
        "print(\"The are of triangle is\", area)"
      ],
      "metadata": {
        "colab": {
          "base_uri": "https://localhost:8080/"
        },
        "id": "ldVXW0fna7MH",
        "outputId": "f77c10df-e816-45f3-ebba-d295219a935a"
      },
      "execution_count": 90,
      "outputs": [
        {
          "output_type": "stream",
          "name": "stdout",
          "text": [
            "Input the base: 12\n",
            "Input the height: 17\n",
            "The are of triangle is 102.0\n"
          ]
        }
      ]
    },
    {
      "cell_type": "code",
      "source": [
        "# Area of Circle\n",
        "x= input(\"Input the radius: \")\n",
        "pi_value= 3.141592653589793\n",
        "\n",
        "area= float(x)*float(x)*pi_value\n",
        "print(\"The are of circle is\", area)"
      ],
      "metadata": {
        "colab": {
          "base_uri": "https://localhost:8080/"
        },
        "id": "cYHqUqm-b_R9",
        "outputId": "46501806-397f-4215-8b51-c58117bc28eb"
      },
      "execution_count": 97,
      "outputs": [
        {
          "output_type": "stream",
          "name": "stdout",
          "text": [
            "Input the radius: 5\n",
            "The are of circle is 78.53981633974483\n"
          ]
        }
      ]
    }
  ]
}