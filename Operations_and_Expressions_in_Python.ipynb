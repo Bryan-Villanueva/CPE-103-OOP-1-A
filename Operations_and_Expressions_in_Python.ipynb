{
  "nbformat": 4,
  "nbformat_minor": 0,
  "metadata": {
    "colab": {
      "provenance": [],
      "authorship_tag": "ABX9TyP3dedSudjq5N2zQELlReVF",
      "include_colab_link": true
    },
    "kernelspec": {
      "name": "python3",
      "display_name": "Python 3"
    },
    "language_info": {
      "name": "python"
    }
  },
  "cells": [
    {
      "cell_type": "markdown",
      "metadata": {
        "id": "view-in-github",
        "colab_type": "text"
      },
      "source": [
        "<a href=\"https://colab.research.google.com/github/Bryan-Villanueva/CPE-103-OOP-1-A/blob/main/Operations_and_Expressions_in_Python.ipynb\" target=\"_parent\"><img src=\"https://colab.research.google.com/assets/colab-badge.svg\" alt=\"Open In Colab\"/></a>"
      ]
    },
    {
      "cell_type": "markdown",
      "source": [
        "# Boolean Operators"
      ],
      "metadata": {
        "id": "oDLEQEjRx0_N"
      }
    },
    {
      "cell_type": "code",
      "execution_count": 139,
      "metadata": {
        "colab": {
          "base_uri": "https://localhost:8080/"
        },
        "id": "-pxHDZbDxXR5",
        "outputId": "745f4ca5-2959-4048-d130-83712e869f5a"
      },
      "outputs": [
        {
          "output_type": "stream",
          "name": "stdout",
          "text": [
            "True\n",
            "False\n",
            "False\n"
          ]
        }
      ],
      "source": [
        "print(10 > 9)\n",
        "print(10 == 9)\n",
        "print(10 < 9)"
      ]
    },
    {
      "cell_type": "markdown",
      "source": [
        "# bool() Function"
      ],
      "metadata": {
        "id": "_E9eki6lzHsV"
      }
    },
    {
      "cell_type": "code",
      "source": [
        "print(bool(\"Hello\"))\n",
        "print(bool(15))\n",
        "print(bool(-7))\n",
        "print(bool(0))"
      ],
      "metadata": {
        "colab": {
          "base_uri": "https://localhost:8080/"
        },
        "id": "IaK-wqKIy4fs",
        "outputId": "f239dd30-6c6a-4ac3-ae4a-c1eba12ad743"
      },
      "execution_count": 140,
      "outputs": [
        {
          "output_type": "stream",
          "name": "stdout",
          "text": [
            "True\n",
            "True\n",
            "True\n",
            "False\n"
          ]
        }
      ]
    },
    {
      "cell_type": "markdown",
      "source": [
        "# Functions can Return a Boolean"
      ],
      "metadata": {
        "id": "Rar4XRm3zpWc"
      }
    },
    {
      "cell_type": "code",
      "source": [
        "def myFunction():\n",
        "  return True\n",
        "\n",
        "print(myFunction())"
      ],
      "metadata": {
        "colab": {
          "base_uri": "https://localhost:8080/"
        },
        "id": "jVcwgyEVzzMc",
        "outputId": "83e46f14-9057-4ef2-fb7c-dd1b0db495a7"
      },
      "execution_count": 141,
      "outputs": [
        {
          "output_type": "stream",
          "name": "stdout",
          "text": [
            "True\n"
          ]
        }
      ]
    },
    {
      "cell_type": "code",
      "source": [
        "def myFunction():\n",
        "  return True\n",
        "\n",
        "if myFunction():\n",
        "  print(\"YES!\")\n",
        "\n",
        "else:\n",
        "  print(\"NO!\")"
      ],
      "metadata": {
        "colab": {
          "base_uri": "https://localhost:8080/"
        },
        "id": "0ndZtnEp0SyM",
        "outputId": "0bd81d29-30e2-4bc4-8820-df2cff4dd808"
      },
      "execution_count": 142,
      "outputs": [
        {
          "output_type": "stream",
          "name": "stdout",
          "text": [
            "YES!\n"
          ]
        }
      ]
    },
    {
      "cell_type": "code",
      "source": [
        "print (10 > 9)\n",
        "\n",
        "a = 6\n",
        "b = 7\n",
        "print(a == b)\n",
        "print(a != a)"
      ],
      "metadata": {
        "colab": {
          "base_uri": "https://localhost:8080/"
        },
        "id": "a3_QOfRG1kLj",
        "outputId": "02815279-14d1-4982-be4b-9da044334e39"
      },
      "execution_count": 143,
      "outputs": [
        {
          "output_type": "stream",
          "name": "stdout",
          "text": [
            "True\n",
            "False\n",
            "False\n"
          ]
        }
      ]
    },
    {
      "cell_type": "markdown",
      "source": [
        "# Python Operators"
      ],
      "metadata": {
        "id": "sanERcN-2C91"
      }
    },
    {
      "cell_type": "code",
      "source": [
        "print(10 + 5) # Addition\n",
        "print(10 - 5) # Substraction\n",
        "print(10 * 5) # Multiplication\n",
        "print(10 / 5) # Division\n",
        "print(10 ** 5) # Exponential\n",
        "print(10 // 5) # Floor Division\n",
        "print(10 % 5) # Modulus"
      ],
      "metadata": {
        "colab": {
          "base_uri": "https://localhost:8080/"
        },
        "id": "Ryxfux762I2T",
        "outputId": "09c3660d-afee-4880-ac6a-d0ce837ad295"
      },
      "execution_count": 144,
      "outputs": [
        {
          "output_type": "stream",
          "name": "stdout",
          "text": [
            "15\n",
            "5\n",
            "50\n",
            "2.0\n",
            "100000\n",
            "2\n",
            "0\n"
          ]
        }
      ]
    },
    {
      "cell_type": "markdown",
      "source": [
        "# Python Bitwise Operators"
      ],
      "metadata": {
        "id": "prCMS5_53V9N"
      }
    },
    {
      "cell_type": "code",
      "source": [
        "a = 60 #0011 1100\n",
        "b = 13 #0000 1101\n",
        "\n",
        "print(a & b) #Bitwise AND\n",
        "print(a | b) #Bitwise OR\n",
        "print(a ^ b) #Bitwise XOR\n",
        "print( ~a ) #Bitwise ONES COMPLEMENT\n",
        "print(a << 2) #Bitwise LEFT SHIFT\n",
        "print(a >> 2) #Bitwise RIGHT SHIFT"
      ],
      "metadata": {
        "colab": {
          "base_uri": "https://localhost:8080/"
        },
        "id": "3VRyMBW93cNc",
        "outputId": "d4ad97c5-aa53-4682-f540-a80b8ce7b81f"
      },
      "execution_count": 145,
      "outputs": [
        {
          "output_type": "stream",
          "name": "stdout",
          "text": [
            "12\n",
            "61\n",
            "49\n",
            "-61\n",
            "240\n",
            "15\n"
          ]
        }
      ]
    },
    {
      "cell_type": "markdown",
      "source": [
        "# Python Assignment Operators"
      ],
      "metadata": {
        "id": "tZmpVxCK-njF"
      }
    },
    {
      "cell_type": "code",
      "source": [
        "x = 5\n",
        "\n",
        "x += 3 #same as x = x + 3\n",
        "print(x)\n",
        "\n",
        "x -= 3 #same as x = x - 3\n",
        "print(x)\n",
        "\n",
        "x *= 3 #same as x = x * 3\n",
        "print(x)\n",
        "\n",
        "x /= 3 #same as x = x / 3\n",
        "print(x)\n",
        "\n",
        "x %= 3 #same as x = x % 3\n",
        "print(x)"
      ],
      "metadata": {
        "colab": {
          "base_uri": "https://localhost:8080/"
        },
        "id": "xqx_14jm-wdz",
        "outputId": "e88c8b31-b27e-4f25-91d0-95bf32277685"
      },
      "execution_count": 146,
      "outputs": [
        {
          "output_type": "stream",
          "name": "stdout",
          "text": [
            "8\n",
            "5\n",
            "15\n",
            "5.0\n",
            "2.0\n"
          ]
        }
      ]
    },
    {
      "cell_type": "markdown",
      "source": [
        "# Logical Operators"
      ],
      "metadata": {
        "id": "aA5IlNN-Cslk"
      }
    },
    {
      "cell_type": "code",
      "source": [
        "a = 10 > 9\n",
        "b = 10 < 9\n",
        "\n",
        "print(a and b) # and Logical AND\n",
        "print(a or b) # or Logical OR\n",
        "print(not(a and b)) # not Logical NOT"
      ],
      "metadata": {
        "colab": {
          "base_uri": "https://localhost:8080/"
        },
        "id": "62z09vYyCzAr",
        "outputId": "339a5663-b00f-49bc-bdf8-85f44b351ab6"
      },
      "execution_count": 147,
      "outputs": [
        {
          "output_type": "stream",
          "name": "stdout",
          "text": [
            "False\n",
            "True\n",
            "True\n"
          ]
        }
      ]
    },
    {
      "cell_type": "markdown",
      "source": [
        "# Identity Operator"
      ],
      "metadata": {
        "id": "6GYFqlW7GjwF"
      }
    },
    {
      "cell_type": "code",
      "source": [
        "x = 1\n",
        "y = 2\n",
        "\n",
        "print(x is y)\n",
        "print(x is not y)"
      ],
      "metadata": {
        "colab": {
          "base_uri": "https://localhost:8080/"
        },
        "id": "H-OlhJCFGoAj",
        "outputId": "e2dc72cd-7dbe-45a4-86be-b9000f8bcc54"
      },
      "execution_count": 148,
      "outputs": [
        {
          "output_type": "stream",
          "name": "stdout",
          "text": [
            "False\n",
            "True\n"
          ]
        }
      ]
    },
    {
      "cell_type": "markdown",
      "source": [
        "# Conditional Statement in Python"
      ],
      "metadata": {
        "id": "2VrPGjamHKUs"
      }
    },
    {
      "cell_type": "markdown",
      "source": [
        "**if Statement**"
      ],
      "metadata": {
        "id": "GEiQtfqJIhOT"
      }
    },
    {
      "cell_type": "code",
      "source": [
        "a = 12\n",
        "b = 100\n",
        "\n",
        "if b>a:\n",
        "  print(\"b is greater than a\")"
      ],
      "metadata": {
        "colab": {
          "base_uri": "https://localhost:8080/"
        },
        "id": "TBQaQgTwIIWD",
        "outputId": "6d4fd420-bf00-425c-c756-baf2a9801dc7"
      },
      "execution_count": 149,
      "outputs": [
        {
          "output_type": "stream",
          "name": "stdout",
          "text": [
            "b is greater than a\n"
          ]
        }
      ]
    },
    {
      "cell_type": "markdown",
      "source": [
        "**Elif Statements**"
      ],
      "metadata": {
        "id": "sW8LrcKtMJl9"
      }
    },
    {
      "cell_type": "code",
      "source": [
        "a = 12\n",
        "b = 12\n",
        "if b > a:\n",
        "  print(\"b is greater than a\")\n",
        "elif a == b:\n",
        "  print(\"a and b are equal\")"
      ],
      "metadata": {
        "colab": {
          "base_uri": "https://localhost:8080/"
        },
        "id": "ai41OhTCMIGT",
        "outputId": "2da022d0-1172-45d1-8275-2c0ba37af138"
      },
      "execution_count": 150,
      "outputs": [
        {
          "output_type": "stream",
          "name": "stdout",
          "text": [
            "a and b are equal\n"
          ]
        }
      ]
    },
    {
      "cell_type": "markdown",
      "source": [
        "**Else Statements**"
      ],
      "metadata": {
        "id": "BPe2gTnmMvsj"
      }
    },
    {
      "cell_type": "code",
      "source": [
        "a = 200\n",
        "b = 33\n",
        "if b > a:\n",
        "  print(\"b is greater than a\")\n",
        "elif a == b:\n",
        "  print(\"a and b are equal\")\n",
        "else:\n",
        "  print(\"a is greater than b\")"
      ],
      "metadata": {
        "colab": {
          "base_uri": "https://localhost:8080/"
        },
        "id": "l9tUnDuyNC3b",
        "outputId": "199f7903-a34b-4ce5-feb3-3b9144871564"
      },
      "execution_count": 151,
      "outputs": [
        {
          "output_type": "stream",
          "name": "stdout",
          "text": [
            "a is greater than b\n"
          ]
        }
      ]
    },
    {
      "cell_type": "markdown",
      "source": [
        "**Short Hand if Else Statement**"
      ],
      "metadata": {
        "id": "rXm6d3jLNmSD"
      }
    },
    {
      "cell_type": "code",
      "source": [
        "a = 2\n",
        "b = 330\n",
        "print(\"A\") if a > b else print(\"B\")"
      ],
      "metadata": {
        "colab": {
          "base_uri": "https://localhost:8080/"
        },
        "id": "DnoW8JtfNyFz",
        "outputId": "05ae0f91-b658-4f0a-ea56-ac7905b19d35"
      },
      "execution_count": 152,
      "outputs": [
        {
          "output_type": "stream",
          "name": "stdout",
          "text": [
            "B\n"
          ]
        }
      ]
    },
    {
      "cell_type": "markdown",
      "source": [
        "**And-both conditions are true**"
      ],
      "metadata": {
        "id": "ZMWym-YJOJ2j"
      }
    },
    {
      "cell_type": "code",
      "source": [
        "a = 200\n",
        "b = 33\n",
        "c = 500\n",
        "if a > b or a > c:\n",
        "  print(\"At least one of the conditions is True\")"
      ],
      "metadata": {
        "colab": {
          "base_uri": "https://localhost:8080/"
        },
        "id": "4Lc5250mOSzz",
        "outputId": "7666413a-4833-4a89-9e11-2d8c4e9701a1"
      },
      "execution_count": 153,
      "outputs": [
        {
          "output_type": "stream",
          "name": "stdout",
          "text": [
            "At least one of the conditions is True\n"
          ]
        }
      ]
    },
    {
      "cell_type": "markdown",
      "source": [
        "**Nested if**"
      ],
      "metadata": {
        "id": "CK9Tt4O5Pno7"
      }
    },
    {
      "cell_type": "code",
      "source": [
        "x = 29\n",
        "\n",
        "if x >10:\n",
        "  print(\"Above Ten\")\n",
        "  if x > 20:\n",
        "    print(\"and also above 20\")\n",
        "    if x > 30:\n",
        "      print(\"and also above 30\")\n",
        "      if x > 40:\n",
        "        print(\"and also above 40\")\n",
        "        if x > 50:\n",
        "           print(\"and also above 50\")\n",
        "        else:\n",
        "          print(\"but not above 50\")\n",
        "      else:\n",
        "        print(\"but not above 40\")\n",
        "    else:\n",
        "      print(\"but not above 30\")\n",
        "  else:\n",
        "    print(\"but not above 20\")\n",
        "else:\n",
        "  print(\"but not above 10\")"
      ],
      "metadata": {
        "colab": {
          "base_uri": "https://localhost:8080/"
        },
        "id": "5Hu3wKR_TI8z",
        "outputId": "b22ae016-84fe-4206-fff8-29c228ee48bd"
      },
      "execution_count": 154,
      "outputs": [
        {
          "output_type": "stream",
          "name": "stdout",
          "text": [
            "Above Ten\n",
            "and also above 20\n",
            "but not above 30\n"
          ]
        }
      ]
    },
    {
      "cell_type": "markdown",
      "source": [
        "**Example 1**"
      ],
      "metadata": {
        "id": "-Ve8UTjoXDcT"
      }
    },
    {
      "cell_type": "code",
      "source": [
        "age = int(input(\"Enter your age: \"))\n",
        "\n",
        "print(\"\")\n",
        "if age > 18:\n",
        "  print(\"You are qualified to vote.\")\n",
        "else:\n",
        "  print(\"You are not qualified to vote.\")"
      ],
      "metadata": {
        "colab": {
          "base_uri": "https://localhost:8080/"
        },
        "id": "zztFgMStUQz8",
        "outputId": "faae0a86-76b5-40e7-bd99-91d0765b0e35"
      },
      "execution_count": 155,
      "outputs": [
        {
          "output_type": "stream",
          "name": "stdout",
          "text": [
            "Enter your age: 17\n",
            "\n",
            "You are not qualified to vote.\n"
          ]
        }
      ]
    },
    {
      "cell_type": "markdown",
      "source": [
        "**Example 2**"
      ],
      "metadata": {
        "id": "1_-nIgLvYx3q"
      }
    },
    {
      "cell_type": "code",
      "source": [
        "number = float(input(\"Enter a number: \"))\n",
        "\n",
        "print(\"\")\n",
        "if number > 0:\n",
        "  print(\"Positive number\")\n",
        "\n",
        "elif number < 0:\n",
        "  print(\"Negative number\")\n",
        "\n",
        "else:\n",
        "  print(\"Zero\")"
      ],
      "metadata": {
        "colab": {
          "base_uri": "https://localhost:8080/"
        },
        "id": "sxzYH221ZAtL",
        "outputId": "36d761de-9756-4a90-b6d4-f89a038cca2e"
      },
      "execution_count": 156,
      "outputs": [
        {
          "output_type": "stream",
          "name": "stdout",
          "text": [
            "Enter a number: 11\n",
            "\n",
            "Positive number\n"
          ]
        }
      ]
    },
    {
      "cell_type": "markdown",
      "source": [
        "**Example 3**"
      ],
      "metadata": {
        "id": "SyKsbyYeaeRj"
      }
    },
    {
      "cell_type": "code",
      "source": [
        "grade = float(input(\"Enter your grade: \"))\n",
        "\n",
        "print(\"\")\n",
        "if grade >= 75:\n",
        "  print(\"Passed\")\n",
        "\n",
        "elif grade == 74:\n",
        "  print(\"Remedial\")\n",
        "\n",
        "else:\n",
        "  print(\"Failed\")"
      ],
      "metadata": {
        "colab": {
          "base_uri": "https://localhost:8080/"
        },
        "id": "M1w04YNuakab",
        "outputId": "14fa361f-242b-4bec-89f7-8c83fb36281f"
      },
      "execution_count": 157,
      "outputs": [
        {
          "output_type": "stream",
          "name": "stdout",
          "text": [
            "Enter your grade: 99\n",
            "\n",
            "Passed\n"
          ]
        }
      ]
    }
  ]
}