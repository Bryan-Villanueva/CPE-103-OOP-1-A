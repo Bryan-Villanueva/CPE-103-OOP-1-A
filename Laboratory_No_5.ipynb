{
  "nbformat": 4,
  "nbformat_minor": 0,
  "metadata": {
    "colab": {
      "provenance": [],
      "authorship_tag": "ABX9TyNvc6dDIu5JiExY+iXpIner",
      "include_colab_link": true
    },
    "kernelspec": {
      "name": "python3",
      "display_name": "Python 3"
    },
    "language_info": {
      "name": "python"
    }
  },
  "cells": [
    {
      "cell_type": "markdown",
      "metadata": {
        "id": "view-in-github",
        "colab_type": "text"
      },
      "source": [
        "<a href=\"https://colab.research.google.com/github/Bryan-Villanueva/CPE-103-OOP-1-A/blob/main/Laboratory_No_5.ipynb\" target=\"_parent\"><img src=\"https://colab.research.google.com/assets/colab-badge.svg\" alt=\"Open In Colab\"/></a>"
      ]
    },
    {
      "cell_type": "markdown",
      "source": [
        "# Built-in Functions"
      ],
      "metadata": {
        "id": "oKuZxIFW4cTr"
      }
    },
    {
      "cell_type": "markdown",
      "source": [
        "evaluator.py"
      ],
      "metadata": {
        "id": "xhEajqJ84khb"
      }
    },
    {
      "cell_type": "code",
      "execution_count": 24,
      "metadata": {
        "colab": {
          "base_uri": "https://localhost:8080/"
        },
        "id": "ToPv0OPd1pm9",
        "outputId": "3318f06e-b043-40bb-e39e-9b93444da8a1"
      },
      "outputs": [
        {
          "output_type": "stream",
          "name": "stdout",
          "text": [
            "Propositional logic evaluator for discrete math\n",
            "How many variables? 3\n",
            "Enter the propositional logic expression: A\n",
            "A B C f\n",
            "0 0 0 0\n",
            "0 0 1 0\n",
            "0 1 0 0\n",
            "0 1 1 0\n",
            "1 0 0 1\n",
            "1 0 1 1\n",
            "1 1 0 1\n",
            "1 1 1 1\n"
          ]
        }
      ],
      "source": [
        "# Propositional Logic evaluator for discrete math for 2-3 variables\n",
        "print(\"Propositional logic evaluator for discrete math\")\n",
        "variables = int(input(\"How many variables? \"))\n",
        "total_combinations = 2 ** variables\n",
        "\n",
        "combinations_list = [] # store all the possible combinations\n",
        "\n",
        "# generate the combinations\n",
        "for i in range(total_combinations):\n",
        "    bin_equivalent = bin(i) [2:]\n",
        "    while len(bin_equivalent)<variables:\n",
        "        bin_equivalent=\"0\"+bin_equivalent\n",
        "    combinations_list.append(tuple(int(val) for val in bin_equivalent))\n",
        "# this will generate a List with values [(0,0), (0,1), (1,0), (1,1)]\n",
        "# for two variables\n",
        "\n",
        "# main program\n",
        "expression = input(\"Enter the propositional logic expression: \")\n",
        "# note: Only the Letters A, B, and C are allowed to be used\n",
        "# example: not(A and B) or (A and C)\n",
        "if variables == 2:\n",
        "    print(\"A B f\")\n",
        "    for A,B in combinations_list:\n",
        "        evaluated_expression = eval(expression)\n",
        "        print(A,B, evaluated_expression)\n",
        "elif variables == 3:\n",
        "    print(\"A B C f\")\n",
        "    for A, B, C in combinations_list:\n",
        "        evaluated_expression = eval(expression)\n",
        "        print(A,B,C, evaluated_expression)"
      ]
    },
    {
      "cell_type": "markdown",
      "source": [
        "file handling"
      ],
      "metadata": {
        "id": "EQGtoz934nED"
      }
    },
    {
      "cell_type": "markdown",
      "source": [
        "newfile1.txt"
      ],
      "metadata": {
        "id": "wRJ9HboP7idT"
      }
    },
    {
      "cell_type": "code",
      "source": [
        "name = \"Gusion Dela Cruz\"\n",
        "file = open(\"newfile1.txt\",'w')\n",
        "file.write(f\"Hello, {name}!\\n\")\n",
        "file.write(\"Isn't this amazing!\\n\")\n",
        "file.write(\"that we can create and write on text files\\n\")\n",
        "file.write(\"using Python.\")\n",
        "file.close()"
      ],
      "metadata": {
        "id": "3_lngWFH4Tfr"
      },
      "execution_count": 2,
      "outputs": []
    },
    {
      "cell_type": "markdown",
      "source": [
        "newfile2.txt"
      ],
      "metadata": {
        "id": "z2kmG3fX57XL"
      }
    },
    {
      "cell_type": "code",
      "source": [
        "name = \"Gusion Dela Cruz\"\n",
        "file = open(\"newfile2.txt\",'w')\n",
        "file.write(f\"Hello, {name}!\\n\")\n",
        "file.write(\"This message was created using Python!\\n\")\n",
        "file.close()"
      ],
      "metadata": {
        "id": "VzM5ISbN55SD"
      },
      "execution_count": 3,
      "outputs": []
    },
    {
      "cell_type": "markdown",
      "source": [
        "filereader.py"
      ],
      "metadata": {
        "id": "sp58BHNM444j"
      }
    },
    {
      "cell_type": "code",
      "source": [
        "file = open(\"newfile1.txt\", 'r')\n",
        "data = file.read()\n",
        "print(data)\n",
        "file.close()"
      ],
      "metadata": {
        "colab": {
          "base_uri": "https://localhost:8080/"
        },
        "id": "qzDsPtBE48hb",
        "outputId": "5991fa39-2952-435d-c0d7-084620d702f6"
      },
      "execution_count": 4,
      "outputs": [
        {
          "output_type": "stream",
          "name": "stdout",
          "text": [
            "Hello, Gusion Dela Cruz!\n",
            "Isn't this amazing!\n",
            "that we can create and write on text files\n",
            "using Python.\n"
          ]
        }
      ]
    },
    {
      "cell_type": "code",
      "source": [
        "file = open(\"newfile2.txt\", 'r')\n",
        "data = file.read(63)\n",
        "print(data)\n",
        "file.close()"
      ],
      "metadata": {
        "colab": {
          "base_uri": "https://localhost:8080/"
        },
        "id": "58oJMD5Q5gvr",
        "outputId": "40de085f-8c03-43c7-e1e8-6deefc131e9e"
      },
      "execution_count": 5,
      "outputs": [
        {
          "output_type": "stream",
          "name": "stdout",
          "text": [
            "Hello, Gusion Dela Cruz!\n",
            "This message was created using Python!\n"
          ]
        }
      ]
    },
    {
      "cell_type": "markdown",
      "source": [
        "fileappender.py"
      ],
      "metadata": {
        "id": "99EuRPak7bm8"
      }
    },
    {
      "cell_type": "code",
      "source": [
        "file = open(\"newfile2.txt\", 'a')\n",
        "file.write(\"and also by the programmer of course.\")\n",
        "file.close()"
      ],
      "metadata": {
        "id": "3tmciPrK7gSL"
      },
      "execution_count": 6,
      "outputs": []
    },
    {
      "cell_type": "markdown",
      "source": [
        "# User-define Functions"
      ],
      "metadata": {
        "id": "IEAPnhl78H5b"
      }
    },
    {
      "cell_type": "markdown",
      "source": [
        "userfunctions"
      ],
      "metadata": {
        "id": "oRd936HE8P1T"
      }
    },
    {
      "cell_type": "markdown",
      "source": [
        "truthtablegenerator.py"
      ],
      "metadata": {
        "id": "iU_zsZAa8TeD"
      }
    },
    {
      "cell_type": "code",
      "source": [
        "def generate_truthtable(number_of_variables):\n",
        "    total_combinations = 2 ** number_of_variables\n",
        "    combinations_list = []\n",
        "    for i in range(total_combinations):\n",
        "        bin_equivalent = bin(i) [2: ]\n",
        "        while len(bin_equivalent)<number_of_variables:\n",
        "            bin_equivalent=\"0\"+bin_equivalent\n",
        "        combinations_list.append(tuple(int(val) for val in bin_equivalent))\n",
        "    return combinations_list\n",
        "\n",
        "print(generate_truthtable(3))"
      ],
      "metadata": {
        "colab": {
          "base_uri": "https://localhost:8080/"
        },
        "id": "P-3of5y88NyT",
        "outputId": "6f5740c0-6445-4cd4-f38a-0f6f2224d2e1"
      },
      "execution_count": 25,
      "outputs": [
        {
          "output_type": "stream",
          "name": "stdout",
          "text": [
            "[(0, 0, 0), (0, 0, 1), (0, 1, 0), (0, 1, 1), (1, 0, 0), (1, 0, 1), (1, 1, 0), (1, 1, 1)]\n"
          ]
        }
      ]
    },
    {
      "cell_type": "markdown",
      "source": [
        "evaluate_propositional_logic()"
      ],
      "metadata": {
        "id": "OnLfGx3lAcWD"
      }
    },
    {
      "cell_type": "code",
      "source": [
        "def generate_truthtable(number_of_variables=0):\n",
        "    if number_of_variables == 0:\n",
        "        return \"You need to enter an integer\"\n",
        "    else:\n",
        "        total_combinations = 2**number_of_variables\n",
        "        combinations_list = []\n",
        "        for i in range(total_combinations):\n",
        "            bin_equivalent = bin(i)[2:].zfill(number_of_variables)\n",
        "            combinations_list.append(tuple(int(val) for val in bin_equivalent))\n",
        "        return combinations_list\n",
        "\n",
        "def evaluate_propositional_logic(c_list):\n",
        "    expression = input(\"Enter the propositional logic expression: \")\n",
        "\n",
        "    if len(c_list[0]) == 2:\n",
        "        print(\"A B f\")\n",
        "        for A, B in c_list:\n",
        "            print(A, B, eval(expression))\n",
        "    elif len(c_list[0]) == 3:\n",
        "        print(\"A B C f\")\n",
        "        for A, B, C in c_list:\n",
        "            print(A, B, C, eval(expression))\n",
        "\n",
        "evaluate_propositional_logic(generate_truthtable(3))"
      ],
      "metadata": {
        "colab": {
          "base_uri": "https://localhost:8080/"
        },
        "id": "s5OPhEFh9LZz",
        "outputId": "76657f0c-85a0-4629-d80e-8aa897030098"
      },
      "execution_count": 7,
      "outputs": [
        {
          "output_type": "stream",
          "name": "stdout",
          "text": [
            "Enter the propositional logic expression: 4\n",
            "A B C f\n",
            "0 0 0 4\n",
            "0 0 1 4\n",
            "0 1 0 4\n",
            "0 1 1 4\n",
            "1 0 0 4\n",
            "1 0 1 4\n",
            "1 1 0 4\n",
            "1 1 1 4\n"
          ]
        }
      ]
    },
    {
      "cell_type": "markdown",
      "source": [
        "# Observation"
      ],
      "metadata": {
        "id": "KKk_ZOwLRwwF"
      }
    },
    {
      "cell_type": "markdown",
      "source": [
        "While evaluator.py prints values immediately within the loop, displaying them automatically throughout execution, generate_truthtable returns a list that needs to be printed separately."
      ],
      "metadata": {
        "id": "r1dZLnhtR53R"
      }
    },
    {
      "cell_type": "markdown",
      "source": [
        "# Built-in Modules"
      ],
      "metadata": {
        "id": "Cry-MVCQFgS9"
      }
    },
    {
      "cell_type": "markdown",
      "source": [
        "modules1"
      ],
      "metadata": {
        "id": "6ye4lTQYF39t"
      }
    },
    {
      "cell_type": "code",
      "source": [
        "import math\n",
        "\n",
        "def quadratic_formula(a,b,c):\n",
        "    if b**2-(4*a*c) <0:\n",
        "        x1 = (complex(-b,math.floor(math.sqrt(abs (b**2-(4*a*c))))))/2*a\n",
        "        x2 = (complex(-b,-1*math.floor(math.sqrt(abs(b**2-(4*a*c))))))/2*a\n",
        "        return x1, x2\n",
        "    else:\n",
        "        x1 = (-b+math.sqrt(b**2-(4*a*c)))/(2*a)\n",
        "        x2= (-b-math.sqrt(b**2-(4*a*c)))/(2*a)\n",
        "        return x1, x2\n",
        "\n",
        "print (quadratic_formula(1,2,3))"
      ],
      "metadata": {
        "colab": {
          "base_uri": "https://localhost:8080/"
        },
        "id": "UUnskcuDSLhL",
        "outputId": "2eb77c21-d68f-4e02-be57-6bf6ad2ce842"
      },
      "execution_count": 8,
      "outputs": [
        {
          "output_type": "stream",
          "name": "stdout",
          "text": [
            "((-1+1j), (-1-1j))\n"
          ]
        }
      ]
    },
    {
      "cell_type": "markdown",
      "source": [
        "mathmodule.py"
      ],
      "metadata": {
        "id": "ELV7UBHxF-hl"
      }
    },
    {
      "cell_type": "code",
      "source": [
        "import math\n",
        "def angle_demo():\n",
        "    angle = math.sin(math.pi/2)\n",
        "    print(angle)\n",
        "    angle =  math.sin(math.radians (90))\n",
        "    print(angle)\n",
        "\n",
        "angle_demo()"
      ],
      "metadata": {
        "id": "Vwnx88axAmFU",
        "colab": {
          "base_uri": "https://localhost:8080/"
        },
        "outputId": "9d4a0f59-8c0c-4e75-afdc-485db341fd64"
      },
      "execution_count": 9,
      "outputs": [
        {
          "output_type": "stream",
          "name": "stdout",
          "text": [
            "1.0\n",
            "1.0\n"
          ]
        }
      ]
    },
    {
      "cell_type": "markdown",
      "source": [
        "dateandtime.py"
      ],
      "metadata": {
        "id": "FhwhbIs9SRaA"
      }
    },
    {
      "cell_type": "code",
      "source": [
        "import time\n",
        "\n",
        "def pause():\n",
        "    for i in range (10, 0, -1):\n",
        "        print (f\"The program will end in {i}..\")\n",
        "        time.sleep(1)\n",
        "\n",
        "def current_time():\n",
        "    t = time.strftime(\"%I:%M %p\")\n",
        "    return t\n",
        "\n",
        "def current_date():\n",
        "    d = time.strftime(\"%b %d %Y\")\n",
        "    return d"
      ],
      "metadata": {
        "id": "kIaxmw3eSX28"
      },
      "execution_count": 10,
      "outputs": []
    },
    {
      "cell_type": "markdown",
      "source": [
        "modules1(main.py)"
      ],
      "metadata": {
        "id": "ljGgXS2zSbak"
      }
    },
    {
      "cell_type": "code",
      "source": [
        "print (\"The current time is\", current_time())\n",
        "print (\"The current date is\", current_date())"
      ],
      "metadata": {
        "colab": {
          "base_uri": "https://localhost:8080/"
        },
        "id": "GNWC_LvOSgxK",
        "outputId": "81064ad7-f46e-49b8-eba1-a0880cbcc9a7"
      },
      "execution_count": 11,
      "outputs": [
        {
          "output_type": "stream",
          "name": "stdout",
          "text": [
            "The current time is 07:04 PM\n",
            "The current date is Mar 29 2025\n"
          ]
        }
      ]
    },
    {
      "cell_type": "markdown",
      "source": [
        "# Supplementary Activity"
      ],
      "metadata": {
        "id": "N0uhQRr9SodR"
      }
    },
    {
      "cell_type": "markdown",
      "source": [
        "Simple Word Filter"
      ],
      "metadata": {
        "id": "FWAvwGjoSwaT"
      }
    },
    {
      "cell_type": "code",
      "source": [
        "badwords = [\"stupid\", \"ugly\", \"shit\", \"dumb\"]\n",
        "words = input(\"Enter Words: \")\n",
        "\n",
        "for x in badwords:\n",
        "    words = words.replace(x, \"*\" * len(x))\n",
        "\n",
        "print (words)"
      ],
      "metadata": {
        "colab": {
          "base_uri": "https://localhost:8080/"
        },
        "id": "C6-U5V9WSvga",
        "outputId": "2c6e5228-f623-435c-e04d-9629991c2c12"
      },
      "execution_count": 14,
      "outputs": [
        {
          "output_type": "stream",
          "name": "stdout",
          "text": [
            "Enter Words: Are you stupid? ugly shit!\n",
            "Are you ******? **** ****!\n"
          ]
        }
      ]
    },
    {
      "cell_type": "markdown",
      "source": [
        "Projectile Motion"
      ],
      "metadata": {
        "id": "XQUQKtesUeSB"
      }
    },
    {
      "cell_type": "code",
      "source": [
        "import math\n",
        "velocity = float(input(\"Input Velocity: \"))\n",
        "vsquared = velocity ** 2\n",
        "angle = float(input(\"Input Angle: \"))\n",
        "gravity = 9.8\n",
        "sin = math.sin(math.radians(2 * angle))\n",
        "\n",
        "Range = (vsquared * sin)/gravity\n",
        "print(f\"The Range of the Projectile: {Range:.4f} meters \" )\n",
        "\n",
        "Height = (vsquared * sin)/ (2 * gravity)\n",
        "print(f\"The Maximum Height of the Projectile: {Height:.4f} meters \")"
      ],
      "metadata": {
        "colab": {
          "base_uri": "https://localhost:8080/"
        },
        "id": "w9jRaKiFUhlQ",
        "outputId": "16a02933-a8fd-432f-e6d3-d605d4273f10"
      },
      "execution_count": 23,
      "outputs": [
        {
          "output_type": "stream",
          "name": "stdout",
          "text": [
            "Input Velocity: 25\n",
            "Input Angle: 76\n",
            "The Range of the Projectile: 29.9408 meters \n",
            "The Maximum Height of the Projectile: 14.9704 meters \n"
          ]
        }
      ]
    },
    {
      "cell_type": "markdown",
      "source": [
        "Quadratic Equation"
      ],
      "metadata": {
        "id": "VZRFWAn8Tooa"
      }
    },
    {
      "cell_type": "code",
      "source": [
        "import math\n",
        "\n",
        "a = float(input(\"Enter A: \"))\n",
        "b = float(input(\"Enter B: \"))\n",
        "c = float(input(\"Enter C: \"))\n",
        "\n",
        "inside = ((b ** 2)- (4 * a * c))\n",
        "x = (-b + math.sqrt(inside)) /(2*a)\n",
        "y = (-b - math.sqrt(inside)) /(2*a)\n",
        "print(\"Roots: \", (x, y))"
      ],
      "metadata": {
        "colab": {
          "base_uri": "https://localhost:8080/"
        },
        "id": "5hUDvkUuUGT7",
        "outputId": "76970ef3-8d4b-4421-aaa5-559686200df1"
      },
      "execution_count": 21,
      "outputs": [
        {
          "output_type": "stream",
          "name": "stdout",
          "text": [
            "Enter A: 5\n",
            "Enter B: 6\n",
            "Enter C: 1\n",
            "Roots:  (-0.2, -1.0)\n"
          ]
        }
      ]
    }
  ]
}