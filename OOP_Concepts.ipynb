{
  "nbformat": 4,
  "nbformat_minor": 0,
  "metadata": {
    "colab": {
      "provenance": [],
      "authorship_tag": "ABX9TyNg5eZKRkXwgqZmIghIdLhX",
      "include_colab_link": true
    },
    "kernelspec": {
      "name": "python3",
      "display_name": "Python 3"
    },
    "language_info": {
      "name": "python"
    }
  },
  "cells": [
    {
      "cell_type": "markdown",
      "metadata": {
        "id": "view-in-github",
        "colab_type": "text"
      },
      "source": [
        "<a href=\"https://colab.research.google.com/github/Bryan-Villanueva/CPE-103-OOP-1-A/blob/main/OOP_Concepts.ipynb\" target=\"_parent\"><img src=\"https://colab.research.google.com/assets/colab-badge.svg\" alt=\"Open In Colab\"/></a>"
      ]
    },
    {
      "cell_type": "markdown",
      "source": [
        "Class Constructor"
      ],
      "metadata": {
        "id": "BD01oJVY7XTO"
      }
    },
    {
      "cell_type": "code",
      "source": [
        "class Car:\n",
        "  def __init__(self,name,color):\n",
        "    self.name = name  #Attributes\n",
        "    self.collor = color"
      ],
      "metadata": {
        "id": "o9zcAUBo7b_G"
      },
      "execution_count": 15,
      "outputs": []
    },
    {
      "cell_type": "markdown",
      "source": [
        "Methods"
      ],
      "metadata": {
        "id": "joO0DOHj_Ufe"
      }
    },
    {
      "cell_type": "code",
      "source": [
        "class Car:\n",
        "  car_type = \"Sedan\"\n",
        "\n",
        "  def __init__(self, name, mileage):\n",
        "    self.name = name\n",
        "    self.mileage = mileage\n",
        "\n",
        "  def description(self):\n",
        "    return \"The {self.name} car gives the mileage of {self.mileage}km/l\"\n",
        "\n",
        "  def max_speed(self, speed):\n",
        "    return \"The {self.name} runs at the maximum speed of {speed}km/h\""
      ],
      "metadata": {
        "id": "Q5GOu3U6_YOW"
      },
      "execution_count": 78,
      "outputs": []
    },
    {
      "cell_type": "markdown",
      "source": [
        "Multiple Objects with the same class"
      ],
      "metadata": {
        "id": "Y3TzFLEd_Yb9"
      }
    },
    {
      "cell_type": "code",
      "source": [
        "class Car:      #parent class\n",
        "  def __init__(self, name, mileage):\n",
        "    self.name = name\n",
        "    self.mileage = mileage\n",
        "\n",
        "  def description(self):\n",
        "    return f\"The {self.name} car gives the mileage of {self.mileage}km/l.\"\n",
        "\n",
        "class BMW(Car):   #child class\n",
        "  pass\n",
        "\n",
        "class Audi(Car):    #child class\n",
        "  def audi_desc(self):\n",
        "    return f\"This is the description method of class Audi.\"\n",
        "\n",
        "bmw = BMW (\"BMW 7-series\", 39.53)\n",
        "print(bmw.description())\n",
        "\n",
        "audi = Audi(\"Audi A8 L\", 14)\n",
        "print(audi.description())\n",
        "print(audi.audi_desc())"
      ],
      "metadata": {
        "colab": {
          "base_uri": "https://localhost:8080/"
        },
        "id": "VLL_wRU__d_e",
        "outputId": "bc93da27-60ed-47eb-cc66-3845947f8f49"
      },
      "execution_count": 79,
      "outputs": [
        {
          "output_type": "stream",
          "name": "stdout",
          "text": [
            "The BMW 7-series car gives the mileage of 39.53km/l.\n",
            "The Audi A8 L car gives the mileage of 14km/l.\n",
            "This is the description method of class Audi.\n"
          ]
        }
      ]
    },
    {
      "cell_type": "markdown",
      "source": [
        "Apply the OOP concept like class constructor, methods, inheritance to describe the size of shapes (e.g Triangle, Square, Rectangle)"
      ],
      "metadata": {
        "id": "n0M67HF4EQ2W"
      }
    },
    {
      "cell_type": "code",
      "source": [
        "class Shapes:\n",
        "  def __init__(self, sides):\n",
        "    self.sides = sides\n",
        "\n",
        "  def description(self):\n",
        "    return f\"This shape has {self.sides} sides.\"\n",
        "\n",
        "class Triangle(Shapes):\n",
        "  def triangle_desc(self):\n",
        "    return \"This is the description of method of class Triangle.\"\n",
        "\n",
        "class Square(Shapes):\n",
        "  def square_desc(self):\n",
        "    return \"This is the description method of class Square.\"\n",
        "\n",
        "class Rectangle(Shapes):\n",
        "  def rectangle_desc(self):\n",
        "    return \"This is the description of method of class Rectangle.\"\n",
        "\n",
        "triangle = Triangle (3)\n",
        "print(triangle.description())\n",
        "print(triangle.triangle_desc() + \"\\n\")\n",
        "\n",
        "square = Square (4)\n",
        "print(square.description())\n",
        "print(square.square_desc() + \"\\n\")\n",
        "\n",
        "rectangle = Rectangle (4)\n",
        "print(rectangle.description())\n",
        "print(rectangle.rectangle_desc())\n",
        "\n",
        "\n",
        "\n",
        ""
      ],
      "metadata": {
        "colab": {
          "base_uri": "https://localhost:8080/"
        },
        "id": "2ACJraVfE2OO",
        "outputId": "5ee8d399-b383-4b1a-9a44-60def033b886"
      },
      "execution_count": 70,
      "outputs": [
        {
          "output_type": "stream",
          "name": "stdout",
          "text": [
            "This shape has 3 sides.\n",
            "This is the description of method of class Triangle.\n",
            "\n",
            "This shape has 4 sides.\n",
            "This is the description method of class Square.\n",
            "\n",
            "This shape has 4 sides.\n",
            "This is the description of method of class Rectangle.\n"
          ]
        }
      ]
    },
    {
      "cell_type": "markdown",
      "source": [
        "Another way of  applying the OOP Concepts"
      ],
      "metadata": {
        "id": "gzM8Eg87SUXn"
      }
    },
    {
      "cell_type": "code",
      "source": [
        "class Shapes:\n",
        "  def __init__(self, name, sides):\n",
        "    self.name = name\n",
        "    self.sides = sides\n",
        "\n",
        "  def description(self):\n",
        "      return f\"The {self.name} has {self.sides} sides.\"\n",
        "\n",
        "class Triangle(Shapes):\n",
        "  pass\n",
        "\n",
        "class Square(Shapes):\n",
        "  pass\n",
        "\n",
        "class Rectangle(Shapes):\n",
        "  pass\n",
        "\n",
        "triangle = Triangle (\"Triangle\", 3)\n",
        "print(triangle.description() + \"\\n\")\n",
        "\n",
        "square = Square (\"Square\", 4)\n",
        "print(square.description() + \"\\n\")\n",
        "\n",
        "rectangle = Rectangle (\"Rectangle\", 4)\n",
        "print (rectangle.description())"
      ],
      "metadata": {
        "colab": {
          "base_uri": "https://localhost:8080/"
        },
        "id": "oDoTooH4OJ0G",
        "outputId": "7246c61f-0a4d-4fcc-eed9-1da3f1b15124"
      },
      "execution_count": 77,
      "outputs": [
        {
          "output_type": "stream",
          "name": "stdout",
          "text": [
            "The Triangle has 3 sides.\n",
            "\n",
            "The Square has 4 sides.\n",
            "\n",
            "The Rectangle has 4 sides.\n"
          ]
        }
      ]
    }
  ]
}