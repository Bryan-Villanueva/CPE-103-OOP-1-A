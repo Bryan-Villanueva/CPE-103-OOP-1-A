{
  "nbformat": 4,
  "nbformat_minor": 0,
  "metadata": {
    "colab": {
      "provenance": [],
      "authorship_tag": "ABX9TyN84pnAOd0KnIzc4nMVrbis",
      "include_colab_link": true
    },
    "kernelspec": {
      "name": "python3",
      "display_name": "Python 3"
    },
    "language_info": {
      "name": "python"
    }
  },
  "cells": [
    {
      "cell_type": "markdown",
      "metadata": {
        "id": "view-in-github",
        "colab_type": "text"
      },
      "source": [
        "<a href=\"https://colab.research.google.com/github/Bryan-Villanueva/CPE-103-OOP-1-A/blob/main/Laboratory_No_2.ipynb\" target=\"_parent\"><img src=\"https://colab.research.google.com/assets/colab-badge.svg\" alt=\"Open In Colab\"/></a>"
      ]
    },
    {
      "cell_type": "markdown",
      "source": [
        "**Assigning variables of different data types in Python**"
      ],
      "metadata": {
        "id": "4lfgsBeimItt"
      }
    },
    {
      "cell_type": "markdown",
      "source": [
        "NUMBER 1"
      ],
      "metadata": {
        "id": "I_euL8XNmMqN"
      }
    },
    {
      "cell_type": "code",
      "execution_count": null,
      "metadata": {
        "colab": {
          "base_uri": "https://localhost:8080/"
        },
        "id": "SsXDhQ1cluAE",
        "outputId": "09d88bad-7993-400f-d260-35a128121137"
      },
      "outputs": [
        {
          "output_type": "stream",
          "name": "stdout",
          "text": [
            "5\n"
          ]
        }
      ],
      "source": [
        "x = 5\n",
        "print(x)"
      ]
    },
    {
      "cell_type": "markdown",
      "source": [
        "NUMBER 2"
      ],
      "metadata": {
        "id": "ljmrAkEjmeGl"
      }
    },
    {
      "cell_type": "code",
      "source": [
        "value = 11\n",
        "print(value)\n",
        "type(value)"
      ],
      "metadata": {
        "colab": {
          "base_uri": "https://localhost:8080/"
        },
        "id": "yTeUHQkDmfLt",
        "outputId": "e56e8e8d-da44-4829-daf5-31ef49d41333"
      },
      "execution_count": null,
      "outputs": [
        {
          "output_type": "stream",
          "name": "stdout",
          "text": [
            "11\n"
          ]
        },
        {
          "output_type": "execute_result",
          "data": {
            "text/plain": [
              "int"
            ]
          },
          "metadata": {},
          "execution_count": 93
        }
      ]
    },
    {
      "cell_type": "markdown",
      "source": [
        "NUMBER 3"
      ],
      "metadata": {
        "id": "m3kiHIZnmx51"
      }
    },
    {
      "cell_type": "code",
      "source": [
        "value = 5.0\n",
        "print(value)\n",
        "type(value)"
      ],
      "metadata": {
        "colab": {
          "base_uri": "https://localhost:8080/"
        },
        "id": "YMM3r_Wbmywu",
        "outputId": "788edb1d-6faf-42ec-c47c-7a8dac1ec7d9"
      },
      "execution_count": null,
      "outputs": [
        {
          "output_type": "stream",
          "name": "stdout",
          "text": [
            "5.0\n"
          ]
        },
        {
          "output_type": "execute_result",
          "data": {
            "text/plain": [
              "float"
            ]
          },
          "metadata": {},
          "execution_count": 92
        }
      ]
    },
    {
      "cell_type": "markdown",
      "source": [
        "NUMBER 4 & 5"
      ],
      "metadata": {
        "id": "_VPBxxW8nMkm"
      }
    },
    {
      "cell_type": "markdown",
      "source": [
        "a."
      ],
      "metadata": {
        "id": "BP8UzusLnpw-"
      }
    },
    {
      "cell_type": "code",
      "source": [
        "value = 2+3j\n",
        "print(value)\n",
        "type(value)"
      ],
      "metadata": {
        "colab": {
          "base_uri": "https://localhost:8080/"
        },
        "id": "bsgopQ2GnOj9",
        "outputId": "48bcc13c-db6d-46d9-eec4-d6ba9c0905f9"
      },
      "execution_count": null,
      "outputs": [
        {
          "output_type": "stream",
          "name": "stdout",
          "text": [
            "(2+3j)\n"
          ]
        },
        {
          "output_type": "execute_result",
          "data": {
            "text/plain": [
              "complex"
            ]
          },
          "metadata": {},
          "execution_count": 94
        }
      ]
    },
    {
      "cell_type": "markdown",
      "source": [
        "b."
      ],
      "metadata": {
        "id": "ihhDlAVen4Ql"
      }
    },
    {
      "cell_type": "code",
      "source": [
        "value = 'Hello World'\n",
        "print(value)\n",
        "type(value)"
      ],
      "metadata": {
        "colab": {
          "base_uri": "https://localhost:8080/"
        },
        "id": "slRrSY3Nn5bV",
        "outputId": "e269edd0-224f-4a18-97e8-892fca6e64e1"
      },
      "execution_count": null,
      "outputs": [
        {
          "output_type": "stream",
          "name": "stdout",
          "text": [
            "Hello World\n"
          ]
        },
        {
          "output_type": "execute_result",
          "data": {
            "text/plain": [
              "str"
            ]
          },
          "metadata": {},
          "execution_count": 97
        }
      ]
    },
    {
      "cell_type": "markdown",
      "source": [
        "c."
      ],
      "metadata": {
        "id": "mCSI0FgVn_c1"
      }
    },
    {
      "cell_type": "code",
      "source": [
        "value = \"Hello World\"\n",
        "print(value)\n",
        "type(value)"
      ],
      "metadata": {
        "colab": {
          "base_uri": "https://localhost:8080/"
        },
        "id": "GxnuISQtoAnd",
        "outputId": "ffc67dbe-88ff-4bb4-ba63-916bca0af974"
      },
      "execution_count": null,
      "outputs": [
        {
          "output_type": "stream",
          "name": "stdout",
          "text": [
            "Hello World\n"
          ]
        },
        {
          "output_type": "execute_result",
          "data": {
            "text/plain": [
              "str"
            ]
          },
          "metadata": {},
          "execution_count": 98
        }
      ]
    },
    {
      "cell_type": "markdown",
      "source": [
        "d."
      ],
      "metadata": {
        "id": "Xm2S1GZkoIpm"
      }
    },
    {
      "cell_type": "code",
      "source": [
        "value = True\n",
        "print(value)\n",
        "type(value)"
      ],
      "metadata": {
        "colab": {
          "base_uri": "https://localhost:8080/"
        },
        "id": "EEj0wUnBoJ2V",
        "outputId": "098b7ec2-9850-4756-945f-ff9bb9f1b08d"
      },
      "execution_count": null,
      "outputs": [
        {
          "output_type": "stream",
          "name": "stdout",
          "text": [
            "True\n"
          ]
        },
        {
          "output_type": "execute_result",
          "data": {
            "text/plain": [
              "bool"
            ]
          },
          "metadata": {},
          "execution_count": 99
        }
      ]
    },
    {
      "cell_type": "markdown",
      "source": [
        "e."
      ],
      "metadata": {
        "id": "THPy2WymoMoN"
      }
    },
    {
      "cell_type": "code",
      "source": [
        "value = False\n",
        "print(value)\n",
        "type(value)"
      ],
      "metadata": {
        "colab": {
          "base_uri": "https://localhost:8080/"
        },
        "id": "mq--FKFKoNqO",
        "outputId": "f93ee220-dc67-4865-9ccd-3ca167ad3068"
      },
      "execution_count": null,
      "outputs": [
        {
          "output_type": "stream",
          "name": "stdout",
          "text": [
            "False\n"
          ]
        },
        {
          "output_type": "execute_result",
          "data": {
            "text/plain": [
              "bool"
            ]
          },
          "metadata": {},
          "execution_count": 100
        }
      ]
    },
    {
      "cell_type": "markdown",
      "source": [
        "f."
      ],
      "metadata": {
        "id": "JTxuTIonoQyO"
      }
    },
    {
      "cell_type": "code",
      "source": [
        "value = [1,2,3,4,5]\n",
        "print(value)\n",
        "type(value)"
      ],
      "metadata": {
        "colab": {
          "base_uri": "https://localhost:8080/"
        },
        "id": "gYHS3gvjoS5t",
        "outputId": "c4eeed58-fceb-46e6-c2ce-90a2107df3a4"
      },
      "execution_count": null,
      "outputs": [
        {
          "output_type": "stream",
          "name": "stdout",
          "text": [
            "[1, 2, 3, 4, 5]\n"
          ]
        },
        {
          "output_type": "execute_result",
          "data": {
            "text/plain": [
              "list"
            ]
          },
          "metadata": {},
          "execution_count": 101
        }
      ]
    },
    {
      "cell_type": "markdown",
      "source": [
        "g."
      ],
      "metadata": {
        "id": "fFm-VRK6oZY1"
      }
    },
    {
      "cell_type": "code",
      "source": [
        "value = (1,2,3,4,5)\n",
        "print(value)\n",
        "type(value)"
      ],
      "metadata": {
        "colab": {
          "base_uri": "https://localhost:8080/"
        },
        "id": "ugCXVVH0oamc",
        "outputId": "3bfc15ab-a4e5-4c04-bea8-9e5e16ecf234"
      },
      "execution_count": null,
      "outputs": [
        {
          "output_type": "stream",
          "name": "stdout",
          "text": [
            "(1, 2, 3, 4, 5)\n"
          ]
        },
        {
          "output_type": "execute_result",
          "data": {
            "text/plain": [
              "tuple"
            ]
          },
          "metadata": {},
          "execution_count": 102
        }
      ]
    },
    {
      "cell_type": "markdown",
      "source": [
        "h."
      ],
      "metadata": {
        "id": "TycPQYi_orXd"
      }
    },
    {
      "cell_type": "code",
      "source": [
        "value = {'name': 'Bryan Villanueva'}\n",
        "print(value)\n",
        "type(value)"
      ],
      "metadata": {
        "colab": {
          "base_uri": "https://localhost:8080/"
        },
        "id": "mj8gjXkVotHW",
        "outputId": "75e2ca6c-7445-47b6-d90d-69a339be503e"
      },
      "execution_count": null,
      "outputs": [
        {
          "output_type": "stream",
          "name": "stdout",
          "text": [
            "{'name': 'Bryan Villanueva'}\n"
          ]
        },
        {
          "output_type": "execute_result",
          "data": {
            "text/plain": [
              "dict"
            ]
          },
          "metadata": {},
          "execution_count": 103
        }
      ]
    },
    {
      "cell_type": "markdown",
      "source": [
        "i."
      ],
      "metadata": {
        "id": "aJGd-ZwQpC4t"
      }
    },
    {
      "cell_type": "code",
      "source": [
        "value = None\n",
        "print(value)\n",
        "type(value)"
      ],
      "metadata": {
        "colab": {
          "base_uri": "https://localhost:8080/"
        },
        "id": "UUUaF-USpGLN",
        "outputId": "d4ff18e8-3482-45b6-a4a9-60c4796c7835"
      },
      "execution_count": null,
      "outputs": [
        {
          "output_type": "stream",
          "name": "stdout",
          "text": [
            "None\n"
          ]
        },
        {
          "output_type": "execute_result",
          "data": {
            "text/plain": [
              "NoneType"
            ]
          },
          "metadata": {},
          "execution_count": 104
        }
      ]
    },
    {
      "cell_type": "markdown",
      "source": [
        "NUMBER 6 & 7"
      ],
      "metadata": {
        "id": "ioRLSw6YpOkt"
      }
    },
    {
      "cell_type": "code",
      "source": [
        "value, value2 = 5, -6\n",
        "print(value + value2)"
      ],
      "metadata": {
        "id": "MZt7UZtLpPk1",
        "colab": {
          "base_uri": "https://localhost:8080/"
        },
        "outputId": "7d58bfcd-faed-42e8-9089-b22acfe432d7"
      },
      "execution_count": null,
      "outputs": [
        {
          "output_type": "stream",
          "name": "stdout",
          "text": [
            "-1\n"
          ]
        }
      ]
    },
    {
      "cell_type": "markdown",
      "source": [
        "**Performing Operations with Python**\n"
      ],
      "metadata": {
        "id": "bOfgkZseqRLM"
      }
    },
    {
      "cell_type": "markdown",
      "source": [
        "NUMBER 1"
      ],
      "metadata": {
        "id": "_XsckmTrqgK9"
      }
    },
    {
      "cell_type": "code",
      "source": [
        "value = 5\n",
        "value2 = -6\n",
        "print(value + value2)"
      ],
      "metadata": {
        "colab": {
          "base_uri": "https://localhost:8080/"
        },
        "id": "H9BHiWplqV3l",
        "outputId": "50510347-91a6-46e7-d3f2-61f41d9564a2"
      },
      "execution_count": null,
      "outputs": [
        {
          "output_type": "stream",
          "name": "stdout",
          "text": [
            "-1\n"
          ]
        }
      ]
    },
    {
      "cell_type": "markdown",
      "source": [
        "NUMBER 2"
      ],
      "metadata": {
        "id": "E8ZwY_z1qv5e"
      }
    },
    {
      "cell_type": "markdown",
      "source": [
        "a."
      ],
      "metadata": {
        "id": "jp83h7nfqxkk"
      }
    },
    {
      "cell_type": "code",
      "source": [
        "value, value2 = 5.0, 6\n",
        "print(value + value2)"
      ],
      "metadata": {
        "colab": {
          "base_uri": "https://localhost:8080/"
        },
        "id": "MvAc6m0tqysl",
        "outputId": "5ffc2b76-9cd2-4217-9c4f-cda80f8223af"
      },
      "execution_count": null,
      "outputs": [
        {
          "output_type": "stream",
          "name": "stdout",
          "text": [
            "11.0\n"
          ]
        }
      ]
    },
    {
      "cell_type": "markdown",
      "source": [
        "b."
      ],
      "metadata": {
        "id": "VlID5-qfrO40"
      }
    },
    {
      "cell_type": "code",
      "source": [
        "value, value2 = -5, 6.1\n",
        "print(value + value2)"
      ],
      "metadata": {
        "colab": {
          "base_uri": "https://localhost:8080/"
        },
        "id": "m5QIqp7GrQOU",
        "outputId": "3d4199c8-3bae-4c41-dffc-2dafcf9697fe"
      },
      "execution_count": null,
      "outputs": [
        {
          "output_type": "stream",
          "name": "stdout",
          "text": [
            "1.0999999999999996\n"
          ]
        }
      ]
    },
    {
      "cell_type": "markdown",
      "source": [
        "c."
      ],
      "metadata": {
        "id": "t6px7_RsrZy8"
      }
    },
    {
      "cell_type": "code",
      "source": [
        "value, value2 = \"Hello\", \" world\"\n",
        "print(value + value2)"
      ],
      "metadata": {
        "colab": {
          "base_uri": "https://localhost:8080/"
        },
        "id": "q-puin-nrbbE",
        "outputId": "49cad16b-f9f4-465e-def6-8ce0760d29a7"
      },
      "execution_count": null,
      "outputs": [
        {
          "output_type": "stream",
          "name": "stdout",
          "text": [
            "Hello world\n"
          ]
        }
      ]
    },
    {
      "cell_type": "markdown",
      "source": [
        "d."
      ],
      "metadata": {
        "id": "qFOmxl5broxN"
      }
    },
    {
      "cell_type": "code",
      "source": [
        "value, value2 = [1,2,3], [4,5,6]\n",
        "print(value + value2)"
      ],
      "metadata": {
        "colab": {
          "base_uri": "https://localhost:8080/"
        },
        "id": "kOrZlJAzrqKt",
        "outputId": "6c530f24-05e5-4863-92ec-8c41575a3bcd"
      },
      "execution_count": null,
      "outputs": [
        {
          "output_type": "stream",
          "name": "stdout",
          "text": [
            "[1, 2, 3, 4, 5, 6]\n"
          ]
        }
      ]
    },
    {
      "cell_type": "markdown",
      "source": [
        "e."
      ],
      "metadata": {
        "id": "_BVYOY5lrzTc"
      }
    },
    {
      "cell_type": "code",
      "source": [
        "value, value2 = (1,2,3), (4,5,6)\n",
        "print(value + value2)"
      ],
      "metadata": {
        "colab": {
          "base_uri": "https://localhost:8080/"
        },
        "id": "iWK0mv3Ar0hV",
        "outputId": "c4075d4c-cedd-4ae0-d3af-b5252b2deda1"
      },
      "execution_count": null,
      "outputs": [
        {
          "output_type": "stream",
          "name": "stdout",
          "text": [
            "(1, 2, 3, 4, 5, 6)\n"
          ]
        }
      ]
    },
    {
      "cell_type": "markdown",
      "source": [
        "f."
      ],
      "metadata": {
        "id": "i5HFwkCIsEIV"
      }
    },
    {
      "cell_type": "code",
      "source": [
        "value, value2 = {\"name\":\"Royce\"}, {\"age\":2}\n",
        "print(value ,value2)"
      ],
      "metadata": {
        "colab": {
          "base_uri": "https://localhost:8080/"
        },
        "id": "JY6k0lhAsFPV",
        "outputId": "bb56c47b-416e-48d3-fe4c-5fa80f292c09"
      },
      "execution_count": null,
      "outputs": [
        {
          "output_type": "stream",
          "name": "stdout",
          "text": [
            "{'name': 'Royce'} {'age': 2}\n"
          ]
        }
      ]
    },
    {
      "cell_type": "markdown",
      "source": [
        "NUMBER 3"
      ],
      "metadata": {
        "id": "1JFaCPCIuzDC"
      }
    },
    {
      "cell_type": "markdown",
      "source": [
        "a."
      ],
      "metadata": {
        "id": "J4I0YlSFu2JY"
      }
    },
    {
      "cell_type": "code",
      "source": [
        "value, value2 = 30, 4\n",
        "print(value*value2)"
      ],
      "metadata": {
        "colab": {
          "base_uri": "https://localhost:8080/"
        },
        "id": "c9BaTsoCvT9J",
        "outputId": "294e15ac-5fe8-4749-a30f-3b21cb8aa402"
      },
      "execution_count": null,
      "outputs": [
        {
          "output_type": "stream",
          "name": "stdout",
          "text": [
            "120\n"
          ]
        }
      ]
    },
    {
      "cell_type": "markdown",
      "source": [
        "b."
      ],
      "metadata": {
        "id": "vYMcPyUVvo1I"
      }
    },
    {
      "cell_type": "code",
      "source": [
        "value, value2 = 30, 4\n",
        "print(value2**2)"
      ],
      "metadata": {
        "colab": {
          "base_uri": "https://localhost:8080/"
        },
        "id": "WpVnM_1gviPc",
        "outputId": "89adb9ad-922e-4736-a3cc-74342f62457c"
      },
      "execution_count": null,
      "outputs": [
        {
          "output_type": "stream",
          "name": "stdout",
          "text": [
            "16\n"
          ]
        }
      ]
    },
    {
      "cell_type": "markdown",
      "source": [
        "c."
      ],
      "metadata": {
        "id": "_jo6PJMwvu_I"
      }
    },
    {
      "cell_type": "code",
      "source": [
        "value, value2 = 30, 4\n",
        "print(value2**3)"
      ],
      "metadata": {
        "colab": {
          "base_uri": "https://localhost:8080/"
        },
        "id": "2N-DJ_CAviqx",
        "outputId": "438aadeb-70c9-48ba-f23e-79571840d12a"
      },
      "execution_count": null,
      "outputs": [
        {
          "output_type": "stream",
          "name": "stdout",
          "text": [
            "64\n"
          ]
        }
      ]
    },
    {
      "cell_type": "markdown",
      "source": [
        "d."
      ],
      "metadata": {
        "id": "geN1sMBwwHtR"
      }
    },
    {
      "cell_type": "code",
      "source": [
        "value, value2 = 30, 4\n",
        "print(value*value2+value2**2+1)"
      ],
      "metadata": {
        "colab": {
          "base_uri": "https://localhost:8080/"
        },
        "id": "27B3VFoZvkOG",
        "outputId": "fcbb5501-5207-4817-b639-5e6af7eb91fa"
      },
      "execution_count": null,
      "outputs": [
        {
          "output_type": "stream",
          "name": "stdout",
          "text": [
            "137\n"
          ]
        }
      ]
    },
    {
      "cell_type": "markdown",
      "source": [
        "e."
      ],
      "metadata": {
        "id": "STmCaMI8wXMg"
      }
    },
    {
      "cell_type": "code",
      "source": [
        "value, value2 = 30, 4\n",
        "print(value/value2)"
      ],
      "metadata": {
        "colab": {
          "base_uri": "https://localhost:8080/"
        },
        "id": "ZztvTSkGvkXZ",
        "outputId": "5b501fa2-beeb-48c9-85ad-b87f5bc960ff"
      },
      "execution_count": null,
      "outputs": [
        {
          "output_type": "stream",
          "name": "stdout",
          "text": [
            "7.5\n"
          ]
        }
      ]
    },
    {
      "cell_type": "markdown",
      "source": [
        "f."
      ],
      "metadata": {
        "id": "Rz8GC9b9wfjo"
      }
    },
    {
      "cell_type": "code",
      "source": [
        "value, value2 = 30, 4\n",
        "print(value%value2)"
      ],
      "metadata": {
        "colab": {
          "base_uri": "https://localhost:8080/"
        },
        "id": "01oQtF4evkec",
        "outputId": "2397111d-b69a-40de-ce65-6f0165fecdb9"
      },
      "execution_count": null,
      "outputs": [
        {
          "output_type": "stream",
          "name": "stdout",
          "text": [
            "2\n"
          ]
        }
      ]
    },
    {
      "cell_type": "markdown",
      "source": [
        "**Assigning Input Data to a Variable**"
      ],
      "metadata": {
        "id": "ZqrSThSAwuWw"
      }
    },
    {
      "cell_type": "markdown",
      "source": [
        "NUMBER 1"
      ],
      "metadata": {
        "id": "XNTK_Tmmwxfi"
      }
    },
    {
      "cell_type": "code",
      "source": [
        "name = input(\"Enter your name: \")"
      ],
      "metadata": {
        "id": "_zywlCRBwzoQ",
        "colab": {
          "base_uri": "https://localhost:8080/"
        },
        "outputId": "607c1622-b024-4dd3-bb93-bcf64ec1b9e3"
      },
      "execution_count": null,
      "outputs": [
        {
          "name": "stdout",
          "output_type": "stream",
          "text": [
            "Enter your name: Bryan\n"
          ]
        }
      ]
    },
    {
      "cell_type": "markdown",
      "source": [
        "NUMBER 2"
      ],
      "metadata": {
        "id": "7TbSrgaSw974"
      }
    },
    {
      "cell_type": "code",
      "source": [
        "weight = input(\"Enter your weight(kg): \")"
      ],
      "metadata": {
        "id": "MEkvaLiVxHE4",
        "colab": {
          "base_uri": "https://localhost:8080/"
        },
        "outputId": "4d352d05-f9eb-49e8-9737-c14e56f06e80"
      },
      "execution_count": null,
      "outputs": [
        {
          "name": "stdout",
          "output_type": "stream",
          "text": [
            "Enter your weight(kg): 54kg\n"
          ]
        }
      ]
    },
    {
      "cell_type": "markdown",
      "source": [
        "NUMBER 3"
      ],
      "metadata": {
        "id": "O9urnEi6xtbA"
      }
    },
    {
      "cell_type": "code",
      "source": [
        "height = input(\"Enter your height(m): \")"
      ],
      "metadata": {
        "colab": {
          "base_uri": "https://localhost:8080/"
        },
        "id": "EBWwpDhQxz8p",
        "outputId": "ac4bad66-009f-41fb-edd4-7ff4e8369090"
      },
      "execution_count": null,
      "outputs": [
        {
          "name": "stdout",
          "output_type": "stream",
          "text": [
            "Enter your height(m): 1.58m\n"
          ]
        }
      ]
    },
    {
      "cell_type": "markdown",
      "source": [
        "NUMBER 4 & 5"
      ],
      "metadata": {
        "id": "Z_PwEwiZyFHJ"
      }
    },
    {
      "cell_type": "code",
      "source": [
        "weight = float(input(\"Enter your weight(kg): \"))\n",
        "height = float(input(\"Enter your height(m): \"))\n",
        "\n",
        "bmi= weight/height**2\n",
        "\n",
        "print(bmi)"
      ],
      "metadata": {
        "colab": {
          "base_uri": "https://localhost:8080/"
        },
        "id": "-hSv9ohwyHwx",
        "outputId": "8a7f97b6-5fb4-4258-e131-377e4428bc10"
      },
      "execution_count": null,
      "outputs": [
        {
          "output_type": "stream",
          "name": "stdout",
          "text": [
            "Enter your weight(kg): 54\n",
            "Enter your height(m): 1.58\n",
            "21.63114885435026\n"
          ]
        }
      ]
    },
    {
      "cell_type": "markdown",
      "source": [
        "NUMBER 6"
      ],
      "metadata": {
        "id": "gQJMmQFqzU1H"
      }
    },
    {
      "cell_type": "code",
      "source": [
        "name = input(\"Enter your name: \")\n",
        "weight = float(input(\"Enter your weight(kg): \"))\n",
        "height = float(input(\"Enter your height(m): \"))\n",
        "\n",
        "bmi = weight/height**2\n",
        "\n",
        "print(\"\\n\")\n",
        "print(\"Name:\", name)\n",
        "print(\"Weight:\", weight)\n",
        "print(\"Height:\", height)\n",
        "print(\"BMI:\", bmi)"
      ],
      "metadata": {
        "colab": {
          "base_uri": "https://localhost:8080/"
        },
        "id": "OVAGi0vAzWTY",
        "outputId": "669c6cc0-d8bf-48d9-8706-e6dbbcce2a1b"
      },
      "execution_count": null,
      "outputs": [
        {
          "output_type": "stream",
          "name": "stdout",
          "text": [
            "Enter your name: John Ray\n",
            "Enter your weight(kg): 60\n",
            "Enter your height(m): 1.6764\n",
            "\n",
            "\n",
            "Name: John Ray\n",
            "Weight: 60.0\n",
            "Height: 1.6764\n",
            "BMI: 21.349904958763087\n"
          ]
        }
      ]
    },
    {
      "cell_type": "markdown",
      "source": [
        "**SUPPLEMENTARY ACTIVITY**"
      ],
      "metadata": {
        "id": "HgH3K4SN3Rcp"
      }
    },
    {
      "cell_type": "markdown",
      "source": [
        "NUMBER 1"
      ],
      "metadata": {
        "id": "9ExhMILW3Z_4"
      }
    },
    {
      "cell_type": "code",
      "source": [
        "base = float(input(\"Enter the base of the triangle: \"))\n",
        "height = float(input(\"Enter the height of the triangle: \"))\n",
        "\n",
        "area = 1/2*base*height\n",
        "\n",
        "print(\"The area of the triangle is:\", area)\n"
      ],
      "metadata": {
        "colab": {
          "base_uri": "https://localhost:8080/"
        },
        "id": "9XWwvnUI3ryR",
        "outputId": "4aaad110-7eac-4a34-e23f-00ed56ec12a9"
      },
      "execution_count": null,
      "outputs": [
        {
          "output_type": "stream",
          "name": "stdout",
          "text": [
            "Enter the base of the triangle: 12\n",
            "Enter the height of the triangle: 10\n",
            "The area of the triangle is: 60.0\n"
          ]
        }
      ]
    },
    {
      "cell_type": "markdown",
      "source": [
        "NUMBER 2"
      ],
      "metadata": {
        "id": "OE_cp3Kf40TI"
      }
    },
    {
      "cell_type": "code",
      "source": [
        "temperature = float(input(\"Enter the temperature in Celsius: \"))\n",
        "\n",
        "fahrenheit = (temperature*9/5)+32\n",
        "\n",
        "print(\"The temperature in Fahrenheit is:\", fahrenheit)"
      ],
      "metadata": {
        "colab": {
          "base_uri": "https://localhost:8080/"
        },
        "id": "XI_LX_LF42ig",
        "outputId": "2b9b5665-9c10-4b99-94b9-cd0296ab216c"
      },
      "execution_count": null,
      "outputs": [
        {
          "output_type": "stream",
          "name": "stdout",
          "text": [
            "Enter the temperature in Celsius: 0\n",
            "The temperature in Fahrenheit is: 32.0\n"
          ]
        }
      ]
    },
    {
      "cell_type": "markdown",
      "source": [
        "NUMBER 3"
      ],
      "metadata": {
        "id": "g2LdrEih5pGZ"
      }
    },
    {
      "cell_type": "code",
      "source": [
        "x1 = float(input(\"Enter the x1: \"))\n",
        "x2 = float(input(\"Enter the x2: \"))\n",
        "y1 = float(input(\"Enter the y1: \"))\n",
        "y2 = float(input(\"Enter the y2: \"))\n",
        "\n",
        "distance = ((x2-x1)**2+(y2-y1)**2)**1/2\n",
        "\n",
        "print(\"The distance between the two points is:\", distance)"
      ],
      "metadata": {
        "colab": {
          "base_uri": "https://localhost:8080/"
        },
        "id": "bEltIRoB5qxy",
        "outputId": "4501f7ff-a009-4274-ce5d-d709d6539200"
      },
      "execution_count": null,
      "outputs": [
        {
          "output_type": "stream",
          "name": "stdout",
          "text": [
            "Enter the x1: 1\n",
            "Enter the x2: 2\n",
            "Enter the y1: 5\n",
            "Enter the y2: 3\n",
            "The distance between the two points is: 2.5\n"
          ]
        }
      ]
    }
  ]
}