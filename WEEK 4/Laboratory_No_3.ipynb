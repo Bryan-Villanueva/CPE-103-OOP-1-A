{
  "nbformat": 4,
  "nbformat_minor": 0,
  "metadata": {
    "colab": {
      "provenance": [],
      "authorship_tag": "ABX9TyPhKI10tNnts5puRgOsaJmq",
      "include_colab_link": true
    },
    "kernelspec": {
      "name": "python3",
      "display_name": "Python 3"
    },
    "language_info": {
      "name": "python"
    }
  },
  "cells": [
    {
      "cell_type": "markdown",
      "metadata": {
        "id": "view-in-github",
        "colab_type": "text"
      },
      "source": [
        "<a href=\"https://colab.research.google.com/github/Bryan-Villanueva/CPE-103-OOP-1-A/blob/main/Laboratory_No_3.ipynb\" target=\"_parent\"><img src=\"https://colab.research.google.com/assets/colab-badge.svg\" alt=\"Open In Colab\"/></a>"
      ]
    },
    {
      "cell_type": "markdown",
      "source": [
        "**Account.py**"
      ],
      "metadata": {
        "id": "4DzY8mbMKla5"
      }
    },
    {
      "cell_type": "code",
      "execution_count": 34,
      "metadata": {
        "id": "kp7_r1gCJAOh"
      },
      "outputs": [],
      "source": [
        "class Accounts():\n",
        "    def __init__(self, account_number, account_firstname, account_lastname,\n",
        "    current_balance, address, email):\n",
        "        self.account_number = account_number\n",
        "        self.account_firstname = account_firstname\n",
        "        self.account_lastname = account_lastname\n",
        "        self.current_balance = current_balance\n",
        "        self.address = address\n",
        "        self.email = email\n",
        "\n",
        "    def update_address(self, new_address):\n",
        "        self.address = new_address\n",
        "\n",
        "    def update_email(self, new_email):\n",
        "        self.email = new_email"
      ]
    },
    {
      "cell_type": "markdown",
      "source": [
        "**ATM.py**"
      ],
      "metadata": {
        "id": "9abXtdYJO12g"
      }
    },
    {
      "cell_type": "code",
      "source": [
        "class ATM():\n",
        "  serial_number = 0\n",
        "\n",
        "  def __init__(self, serial_number):\n",
        "        self.serial_number = serial_number\n",
        "\n",
        "  def deposit(self, account, amount):\n",
        "    account.current_balance = account.current_balance + amount\n",
        "    print(\"Deposit Complete\")\n",
        "\n",
        "  def withdraw(self, account, amount):\n",
        "    account.current_balance = account.current_balance - amount\n",
        "    print(\"Withdraw Complete\")\n",
        "\n",
        "  def check_currentBalance(self, account):\n",
        "    print(\"Current Balance:\", account.current_balance, \"\\n\")"
      ],
      "metadata": {
        "id": "AEDCUGlrPC14"
      },
      "execution_count": 48,
      "outputs": []
    },
    {
      "cell_type": "markdown",
      "source": [
        "**main.py**"
      ],
      "metadata": {
        "id": "jSb_3uPtRMIA"
      }
    },
    {
      "cell_type": "code",
      "source": [
        "Account1 = Accounts(account_number=123456, account_firstname=\"Royce\", account_lastname=\"Chua\",current_balance = 1000, address = \"Silver Street Quezon City\", email = \"roycechua123@yahoo.com\")\n",
        "\n",
        "print(\"Account 1\")\n",
        "print(\"First Name:\", Account1.account_firstname)\n",
        "print(\"Last Name:\", Account1.account_lastname)\n",
        "print(\"Current Balance:\", Account1.current_balance)\n",
        "print(\"Address:\", Account1.address)\n",
        "print(\"Email:\", Account1.email, \"\\n\")\n",
        "\n",
        "Account2 = Accounts(account_number=654321, account_firstname=\"John\", account_lastname=\"Doe\",current_balance = 2000, address = \"Gold Street Quezon City\", email = \"johndoe@yahoo.com\")\n",
        "\n",
        "print(\"Account 2\")\n",
        "print(\"First Name:\", Account2.account_firstname)\n",
        "print(\"Last Name:\", Account2.account_lastname)\n",
        "print(\"Current Balance:\", Account2.current_balance)\n",
        "print(\"Address:\", Account2.address)\n",
        "print(\"Email:\", Account2.email, \"\\n\")\n",
        "\n",
        "ATM1 = ATM(serial_number = 24689)\n",
        "ATM1.deposit(Account1, 500)\n",
        "ATM1.check_currentBalance(Account1)\n",
        "\n",
        "ATM1.deposit(Account2, 300)\n",
        "ATM1.check_currentBalance(Account2)"
      ],
      "metadata": {
        "colab": {
          "base_uri": "https://localhost:8080/"
        },
        "id": "qiLfP_FURQug",
        "outputId": "083687b6-7567-4d11-a9be-aef47c976109"
      },
      "execution_count": 49,
      "outputs": [
        {
          "output_type": "stream",
          "name": "stdout",
          "text": [
            "Account 1\n",
            "First Name: Royce\n",
            "Last Name: Chua\n",
            "Current Balance: 1000\n",
            "Address: Silver Street Quezon City\n",
            "Email: roycechua123@yahoo.com \n",
            "\n",
            "Account 2\n",
            "First Name: John\n",
            "Last Name: Doe\n",
            "Current Balance: 2000\n",
            "Address: Gold Street Quezon City\n",
            "Email: johndoe@yahoo.com \n",
            "\n",
            "Deposit Complete\n",
            "Current Balance: 1500 \n",
            "\n",
            "Deposit Complete\n",
            "Current Balance: 2300 \n",
            "\n"
          ]
        }
      ]
    },
    {
      "cell_type": "markdown",
      "source": [
        "**Supplementary Activity**"
      ],
      "metadata": {
        "id": "3eJefQ0LENMk"
      }
    },
    {
      "cell_type": "markdown",
      "source": [
        "1. Modify the ATM.py program and add the constructor function."
      ],
      "metadata": {
        "id": "lfSCNKDFEUdf"
      }
    },
    {
      "cell_type": "code",
      "source": [
        "#ATM\n",
        "\n",
        "class ATM():\n",
        "  serial_number = 0\n",
        "\n",
        "  def __init__(self, serial_number):\n",
        "    self.serial_number = serial_number\n",
        "\n",
        "  def deposit(self, account, amount):\n",
        "    account.current_balance = account.current_balance + amount\n",
        "    print(\"Deposit Complete\")\n",
        "\n",
        "  def withdraw(self, account, amount):\n",
        "    account.current_balance = account.current_balance - amount\n",
        "    print(\"Withdraw Complete\")\n",
        "\n",
        "  def check_currentBalance(self, account):\n",
        "    print(f\"Current Balance:{account.current_balance}\", \"\\n\")"
      ],
      "metadata": {
        "id": "na9qOYobETfe"
      },
      "execution_count": 50,
      "outputs": []
    },
    {
      "cell_type": "markdown",
      "source": [
        "2. Modify the main.py program and initialize the ATM machine with any integer serial number combination and display the serial number at the end of the program."
      ],
      "metadata": {
        "id": "FIU7LzLqHlxW"
      }
    },
    {
      "cell_type": "code",
      "source": [
        "#main\n",
        "\n",
        "Account1 = Accounts(account_number=123456, account_firstname=\"Royce\", account_lastname=\"Chua\",current_balance = 1000, address = \"Silver Street Quezon City\", email = \"roycechua123@yahoo.com\")\n",
        "\n",
        "print(\"Account 1\")\n",
        "print(\"First Name:\", Account1.account_firstname)\n",
        "print(\"Last Name:\", Account1.account_lastname)\n",
        "print(\"Current Balance:\", Account1.current_balance)\n",
        "print(\"Address:\", Account1.address)\n",
        "print(\"Email:\", Account1.email, \"\\n\")\n",
        "\n",
        "Account2 = Accounts(account_number=654321, account_firstname=\"John\", account_lastname=\"Doe\",current_balance = 2000, address = \"Gold Street Quezon City\", email = \"johndoe@yahoo.com\")\n",
        "\n",
        "print(\"Account 2\")\n",
        "print(\"First Name:\", Account2.account_firstname)\n",
        "print(\"Last Name:\", Account2.account_lastname)\n",
        "print(\"Current Balance:\", Account2.current_balance)\n",
        "print(\"Address:\", Account2.address)\n",
        "print(\"Email:\", Account2.email, \"\\n\")\n",
        "\n",
        "ATM1 = ATM(serial_number =24689)\n",
        "ATM1.deposit(Account1, 500)\n",
        "ATM1.check_currentBalance(Account1)\n",
        "\n",
        "ATM1.deposit(Account2, 300)\n",
        "ATM1.check_currentBalance(Account2)\n",
        "\n",
        "print(\"ATM Serial Number:\", ATM1.serial_number)"
      ],
      "metadata": {
        "colab": {
          "base_uri": "https://localhost:8080/"
        },
        "id": "LG7Nifv7Hn_L",
        "outputId": "bdeeb73e-e44c-48d2-a2c2-7c5828a6830b"
      },
      "execution_count": 52,
      "outputs": [
        {
          "output_type": "stream",
          "name": "stdout",
          "text": [
            "Account 1\n",
            "First Name: Royce\n",
            "Last Name: Chua\n",
            "Current Balance: 1000\n",
            "Address: Silver Street Quezon City\n",
            "Email: roycechua123@yahoo.com \n",
            "\n",
            "Account 2\n",
            "First Name: John\n",
            "Last Name: Doe\n",
            "Current Balance: 2000\n",
            "Address: Gold Street Quezon City\n",
            "Email: johndoe@yahoo.com \n",
            "\n",
            "Deposit Complete\n",
            "Current Balance:1500 \n",
            "\n",
            "Deposit Complete\n",
            "Current Balance:2300 \n",
            "\n",
            "ATM Serial Number: 24689\n"
          ]
        }
      ]
    },
    {
      "cell_type": "markdown",
      "source": [
        "3. Modify the ATM.py program and add the view_transactionsummary() method. The method should display all the transaction made in the ATM object."
      ],
      "metadata": {
        "id": "tUGOxWbYJDzh"
      }
    },
    {
      "cell_type": "code",
      "source": [
        "#ATM\n",
        "\n",
        "class ATM():\n",
        "    serial_number = 0\n",
        "    transactions = []\n",
        "\n",
        "    def __init__(self, serial_number):\n",
        "        self.serial_number = serial_number\n",
        "\n",
        "    def deposit(self, account, amount):\n",
        "        account.current_balance = account.current_balance + amount\n",
        "        self.transactions(f\"Deposit: {amount} to account {account.account_number}\")\n",
        "        print(\"Deposit Complete\")\n",
        "\n",
        "    def withdraw(self, account, amount):\n",
        "        account.current_balance = account.current_balance - amount\n",
        "        self.transactions(f\"Withdrawal: {amount} from account {account.account_number}\")\n",
        "        print(\"Withdraw Complete\")\n",
        "\n",
        "    def check_currentBalance(self, account):\n",
        "        print(f\"Current Balance: {account.current_balance}\", \"\\n\" )\n",
        "\n",
        "    def view_transactionsummary(self):\n",
        "        print(\"Transaction Summary:\")\n",
        "        for transaction in self.transactions:\n",
        "          transaction.print()\n",
        "\n",
        "ATM1 = ATM(serial_number = 24689)\n",
        "ATM1.view_transactionsummary()"
      ],
      "metadata": {
        "colab": {
          "base_uri": "https://localhost:8080/"
        },
        "id": "jSVOZeLTJGM5",
        "outputId": "52e9ffed-842f-4b7f-a5f9-898975a4c6bc"
      },
      "execution_count": 53,
      "outputs": [
        {
          "output_type": "stream",
          "name": "stdout",
          "text": [
            "Transaction Summary:\n"
          ]
        }
      ]
    }
  ]
}