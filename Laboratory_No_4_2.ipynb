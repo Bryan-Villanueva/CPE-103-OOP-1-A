{
  "nbformat": 4,
  "nbformat_minor": 0,
  "metadata": {
    "colab": {
      "provenance": [],
      "authorship_tag": "ABX9TyMTMwNDst/zsv025M8ZcbuM",
      "include_colab_link": true
    },
    "kernelspec": {
      "name": "python3",
      "display_name": "Python 3"
    },
    "language_info": {
      "name": "python"
    }
  },
  "cells": [
    {
      "cell_type": "markdown",
      "metadata": {
        "id": "view-in-github",
        "colab_type": "text"
      },
      "source": [
        "<a href=\"https://colab.research.google.com/github/Bryan-Villanueva/CPE-103-OOP-1-A/blob/main/Laboratory_No_4_2.ipynb\" target=\"_parent\"><img src=\"https://colab.research.google.com/assets/colab-badge.svg\" alt=\"Open In Colab\"/></a>"
      ]
    },
    {
      "cell_type": "markdown",
      "source": [
        "**A string is a sequence**"
      ],
      "metadata": {
        "id": "_8Ly34R7f8rr"
      }
    },
    {
      "cell_type": "code",
      "execution_count": 1,
      "metadata": {
        "colab": {
          "base_uri": "https://localhost:8080/"
        },
        "id": "orhsiBdDZpkY",
        "outputId": "a652a1cd-27df-4d7e-9066-36ed45562047"
      },
      "outputs": [
        {
          "output_type": "stream",
          "name": "stdout",
          "text": [
            "a\n"
          ]
        }
      ],
      "source": [
        "fruit = 'banana'\n",
        "letter = fruit[1]\n",
        "print(letter)"
      ]
    },
    {
      "cell_type": "code",
      "source": [
        "letter = fruit[0]\n",
        "print(letter)"
      ],
      "metadata": {
        "colab": {
          "base_uri": "https://localhost:8080/"
        },
        "id": "AYGwrklLa_8f",
        "outputId": "04821432-3423-48ed-bece-e831d250345a"
      },
      "execution_count": 2,
      "outputs": [
        {
          "output_type": "stream",
          "name": "stdout",
          "text": [
            "b\n"
          ]
        }
      ]
    },
    {
      "cell_type": "code",
      "source": [
        "letter = fruit[1.5]"
      ],
      "metadata": {
        "colab": {
          "base_uri": "https://localhost:8080/",
          "height": 141
        },
        "id": "jhtxtcjTbD4e",
        "outputId": "bf34500e-50e3-4868-9245-cbd80144beb5"
      },
      "execution_count": 20,
      "outputs": [
        {
          "output_type": "error",
          "ename": "TypeError",
          "evalue": "string indices must be integers, not 'float'",
          "traceback": [
            "\u001b[0;31m---------------------------------------------------------------------------\u001b[0m",
            "\u001b[0;31mTypeError\u001b[0m                                 Traceback (most recent call last)",
            "\u001b[0;32m<ipython-input-20-bb89ba6efbbd>\u001b[0m in \u001b[0;36m<cell line: 0>\u001b[0;34m()\u001b[0m\n\u001b[0;32m----> 1\u001b[0;31m \u001b[0mletter\u001b[0m \u001b[0;34m=\u001b[0m \u001b[0mfruit\u001b[0m\u001b[0;34m[\u001b[0m\u001b[0;36m1.5\u001b[0m\u001b[0;34m]\u001b[0m\u001b[0;34m\u001b[0m\u001b[0;34m\u001b[0m\u001b[0m\n\u001b[0m",
            "\u001b[0;31mTypeError\u001b[0m: string indices must be integers, not 'float'"
          ]
        }
      ]
    },
    {
      "cell_type": "markdown",
      "source": [
        "**Getting the length of a string using len**"
      ],
      "metadata": {
        "id": "IBUFFMHUbCvf"
      }
    },
    {
      "cell_type": "code",
      "source": [
        "fruit = 'banana'\n",
        "len(fruit)"
      ],
      "metadata": {
        "colab": {
          "base_uri": "https://localhost:8080/"
        },
        "id": "LVAUVSRvbCdO",
        "outputId": "73e5b7b0-a932-4fcf-a7bf-59a37a15b512"
      },
      "execution_count": 5,
      "outputs": [
        {
          "output_type": "execute_result",
          "data": {
            "text/plain": [
              "6"
            ]
          },
          "metadata": {},
          "execution_count": 5
        }
      ]
    },
    {
      "cell_type": "code",
      "source": [
        "length = len(fruit)\n",
        "last = fruit[length]"
      ],
      "metadata": {
        "colab": {
          "base_uri": "https://localhost:8080/",
          "height": 159
        },
        "id": "sSE5zXAqbjlX",
        "outputId": "364e2649-72ba-4f62-f6aa-20cd166e5594"
      },
      "execution_count": 8,
      "outputs": [
        {
          "output_type": "error",
          "ename": "IndexError",
          "evalue": "string index out of range",
          "traceback": [
            "\u001b[0;31m---------------------------------------------------------------------------\u001b[0m",
            "\u001b[0;31mIndexError\u001b[0m                                Traceback (most recent call last)",
            "\u001b[0;32m<ipython-input-8-4dd85e09c2d1>\u001b[0m in \u001b[0;36m<cell line: 0>\u001b[0;34m()\u001b[0m\n\u001b[1;32m      1\u001b[0m \u001b[0mlength\u001b[0m \u001b[0;34m=\u001b[0m \u001b[0mlen\u001b[0m\u001b[0;34m(\u001b[0m\u001b[0mfruit\u001b[0m\u001b[0;34m)\u001b[0m\u001b[0;34m\u001b[0m\u001b[0;34m\u001b[0m\u001b[0m\n\u001b[0;32m----> 2\u001b[0;31m \u001b[0mlast\u001b[0m \u001b[0;34m=\u001b[0m \u001b[0mfruit\u001b[0m\u001b[0;34m[\u001b[0m\u001b[0mlength\u001b[0m\u001b[0;34m]\u001b[0m\u001b[0;34m\u001b[0m\u001b[0;34m\u001b[0m\u001b[0m\n\u001b[0m",
            "\u001b[0;31mIndexError\u001b[0m: string index out of range"
          ]
        }
      ]
    },
    {
      "cell_type": "code",
      "source": [
        "last = fruit[length-1]\n",
        "print(last)"
      ],
      "metadata": {
        "colab": {
          "base_uri": "https://localhost:8080/"
        },
        "id": "32deUmqablv7",
        "outputId": "9d5a6f05-2ed4-40a4-bb54-7a6ac82d1cf8"
      },
      "execution_count": 21,
      "outputs": [
        {
          "output_type": "stream",
          "name": "stdout",
          "text": [
            "a\n"
          ]
        }
      ]
    },
    {
      "cell_type": "markdown",
      "source": [
        "**Traversal through a string with a loop**"
      ],
      "metadata": {
        "id": "bYPSXywReF2B"
      }
    },
    {
      "cell_type": "code",
      "source": [
        "index = 0\n",
        "while index < len(fruit):\n",
        "\n",
        "  letter = fruit[index]\n",
        "  print(letter)\n",
        "\n",
        "  index = index + 1"
      ],
      "metadata": {
        "colab": {
          "base_uri": "https://localhost:8080/"
        },
        "id": "ipylBO-deHxp",
        "outputId": "996fb2ef-98b6-4724-ab8e-9da1eda1244d"
      },
      "execution_count": 9,
      "outputs": [
        {
          "output_type": "stream",
          "name": "stdout",
          "text": [
            "b\n",
            "a\n",
            "n\n",
            "a\n",
            "n\n",
            "a\n"
          ]
        }
      ]
    },
    {
      "cell_type": "code",
      "source": [
        "for char in fruit:\n",
        "  print(char)"
      ],
      "metadata": {
        "id": "hVCi01gMgIke",
        "colab": {
          "base_uri": "https://localhost:8080/"
        },
        "outputId": "f0029f8a-b19a-4b9b-fb51-4d92bdf29142"
      },
      "execution_count": 10,
      "outputs": [
        {
          "output_type": "stream",
          "name": "stdout",
          "text": [
            "b\n",
            "a\n",
            "n\n",
            "a\n",
            "n\n",
            "a\n"
          ]
        }
      ]
    },
    {
      "cell_type": "markdown",
      "source": [
        "**String slices**"
      ],
      "metadata": {
        "id": "kDlDbKQEcFbF"
      }
    },
    {
      "cell_type": "code",
      "source": [
        "s = 'Monty Python'\n",
        "print(s[0:5])\n",
        "print(s[6:12])"
      ],
      "metadata": {
        "colab": {
          "base_uri": "https://localhost:8080/"
        },
        "id": "C-E0Fa1McJIM",
        "outputId": "66225f49-d6bf-4a0b-df09-cb331d5b4fa3"
      },
      "execution_count": 11,
      "outputs": [
        {
          "output_type": "stream",
          "name": "stdout",
          "text": [
            "Monty\n",
            "Python\n"
          ]
        }
      ]
    },
    {
      "cell_type": "code",
      "source": [
        "fruit = 'banana'\n",
        "fruit[:3]"
      ],
      "metadata": {
        "colab": {
          "base_uri": "https://localhost:8080/",
          "height": 35
        },
        "id": "QM1Mq6YPcL10",
        "outputId": "f13bb4c7-ee21-4096-fd71-a48ad55c96c6"
      },
      "execution_count": 12,
      "outputs": [
        {
          "output_type": "execute_result",
          "data": {
            "text/plain": [
              "'ban'"
            ],
            "application/vnd.google.colaboratory.intrinsic+json": {
              "type": "string"
            }
          },
          "metadata": {},
          "execution_count": 12
        }
      ]
    },
    {
      "cell_type": "code",
      "source": [
        "fruit[3:]"
      ],
      "metadata": {
        "colab": {
          "base_uri": "https://localhost:8080/",
          "height": 35
        },
        "id": "oLKLk9u7cNGY",
        "outputId": "c543ad87-eee5-4039-9c5a-0094055d31be"
      },
      "execution_count": 13,
      "outputs": [
        {
          "output_type": "execute_result",
          "data": {
            "text/plain": [
              "'ana'"
            ],
            "application/vnd.google.colaboratory.intrinsic+json": {
              "type": "string"
            }
          },
          "metadata": {},
          "execution_count": 13
        }
      ]
    },
    {
      "cell_type": "code",
      "source": [
        "fruit = 'banana'\n",
        "fruit[3:3]"
      ],
      "metadata": {
        "colab": {
          "base_uri": "https://localhost:8080/",
          "height": 35
        },
        "id": "OD-8KePEcPQK",
        "outputId": "6cfaafb7-8ebb-467d-b975-f5c1f48d492c"
      },
      "execution_count": 14,
      "outputs": [
        {
          "output_type": "execute_result",
          "data": {
            "text/plain": [
              "''"
            ],
            "application/vnd.google.colaboratory.intrinsic+json": {
              "type": "string"
            }
          },
          "metadata": {},
          "execution_count": 14
        }
      ]
    },
    {
      "cell_type": "markdown",
      "source": [
        "**String are immutable**"
      ],
      "metadata": {
        "id": "zNllNz_NcUQs"
      }
    },
    {
      "cell_type": "code",
      "source": [
        "greeting = 'Hello, world!'\n",
        "greeting[0] = 'J'"
      ],
      "metadata": {
        "colab": {
          "base_uri": "https://localhost:8080/",
          "height": 159
        },
        "id": "bs28pHjEcZm3",
        "outputId": "e1454332-7225-4ec5-dfb5-be2cda0a30eb"
      },
      "execution_count": 16,
      "outputs": [
        {
          "output_type": "error",
          "ename": "TypeError",
          "evalue": "'str' object does not support item assignment",
          "traceback": [
            "\u001b[0;31m---------------------------------------------------------------------------\u001b[0m",
            "\u001b[0;31mTypeError\u001b[0m                                 Traceback (most recent call last)",
            "\u001b[0;32m<ipython-input-16-217c78420f62>\u001b[0m in \u001b[0;36m<cell line: 0>\u001b[0;34m()\u001b[0m\n\u001b[1;32m      1\u001b[0m \u001b[0mgreeting\u001b[0m \u001b[0;34m=\u001b[0m \u001b[0;34m'Hello, world!'\u001b[0m\u001b[0;34m\u001b[0m\u001b[0;34m\u001b[0m\u001b[0m\n\u001b[0;32m----> 2\u001b[0;31m \u001b[0mgreeting\u001b[0m\u001b[0;34m[\u001b[0m\u001b[0;36m0\u001b[0m\u001b[0;34m]\u001b[0m \u001b[0;34m=\u001b[0m \u001b[0;34m'J'\u001b[0m\u001b[0;34m\u001b[0m\u001b[0;34m\u001b[0m\u001b[0m\n\u001b[0m",
            "\u001b[0;31mTypeError\u001b[0m: 'str' object does not support item assignment"
          ]
        }
      ]
    },
    {
      "cell_type": "code",
      "source": [
        "greeting = 'Hello, world!'\n",
        "new_greeting = 'J' + greeting[1:]\n",
        "print(new_greeting)"
      ],
      "metadata": {
        "colab": {
          "base_uri": "https://localhost:8080/"
        },
        "id": "Abu1NqmZcbZl",
        "outputId": "91d37aa5-1a91-432d-b680-0af8c89096c3"
      },
      "execution_count": 15,
      "outputs": [
        {
          "output_type": "stream",
          "name": "stdout",
          "text": [
            "Jello, world!\n"
          ]
        }
      ]
    },
    {
      "cell_type": "markdown",
      "source": [
        "**Looping and counting**"
      ],
      "metadata": {
        "id": "HSfCwkUXcgUM"
      }
    },
    {
      "cell_type": "code",
      "source": [
        "word = 'banana'\n",
        "count = 0\n",
        "for letter in word:\n",
        "  if letter == 'a':\n",
        "    count = count + 1\n",
        "print(count)"
      ],
      "metadata": {
        "colab": {
          "base_uri": "https://localhost:8080/"
        },
        "id": "c7LBZUCccrIn",
        "outputId": "2554f7f3-f8c9-41cc-be88-2dc3191dac50"
      },
      "execution_count": 17,
      "outputs": [
        {
          "output_type": "stream",
          "name": "stdout",
          "text": [
            "3\n"
          ]
        }
      ]
    },
    {
      "cell_type": "markdown",
      "source": [
        "**Supplementary Activity**"
      ],
      "metadata": {
        "id": "pDoUrw9hc5mI"
      }
    },
    {
      "cell_type": "code",
      "source": [
        "str = 'CPE-CPE009A-2025: 0.8475'\n",
        "\n",
        "print(float(str[18:]))"
      ],
      "metadata": {
        "colab": {
          "base_uri": "https://localhost:8080/"
        },
        "id": "_Sx70Y2NdBWX",
        "outputId": "a4a4b2ca-d0a8-48c9-8ec9-551803d143df"
      },
      "execution_count": 18,
      "outputs": [
        {
          "output_type": "stream",
          "name": "stdout",
          "text": [
            "0.8475\n"
          ]
        }
      ]
    },
    {
      "cell_type": "code",
      "source": [
        "firstname = input(\"First Name: \")\n",
        "length_of_name = len(firstname)\n",
        "\n",
        "if length_of_name < 3:\n",
        "  print(\"name is too short\")\n",
        "\n",
        "else:\n",
        "  starting = (length_of_name - 3) // 2\n",
        "  ending = starting + 3\n",
        "  middle = firstname[starting : ending]\n",
        "  print(f\"3 middle letter of your name is: {middle}\")"
      ],
      "metadata": {
        "colab": {
          "base_uri": "https://localhost:8080/"
        },
        "id": "QzCtJLxjdEvs",
        "outputId": "3285dd7b-0a3d-412e-82a3-9335aab3b176"
      },
      "execution_count": 19,
      "outputs": [
        {
          "output_type": "stream",
          "name": "stdout",
          "text": [
            "First Name: Gusion\n",
            "3 middle letter of your name is: usi\n"
          ]
        }
      ]
    }
  ]
}