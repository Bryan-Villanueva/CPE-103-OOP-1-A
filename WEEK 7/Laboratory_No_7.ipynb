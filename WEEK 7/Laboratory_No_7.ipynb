{
  "nbformat": 4,
  "nbformat_minor": 0,
  "metadata": {
    "colab": {
      "provenance": [],
      "authorship_tag": "ABX9TyNI70Z3dWwFB5IweqI2+yss",
      "include_colab_link": true
    },
    "kernelspec": {
      "name": "python3",
      "display_name": "Python 3"
    },
    "language_info": {
      "name": "python"
    }
  },
  "cells": [
    {
      "cell_type": "markdown",
      "metadata": {
        "id": "view-in-github",
        "colab_type": "text"
      },
      "source": [
        "<a href=\"https://colab.research.google.com/github/Bryan-Villanueva/CPE-103-OOP-1-A/blob/main/Laboratory_No_7.ipynb\" target=\"_parent\"><img src=\"https://colab.research.google.com/assets/colab-badge.svg\" alt=\"Open In Colab\"/></a>"
      ]
    },
    {
      "cell_type": "markdown",
      "source": [
        "**polymorphism**"
      ],
      "metadata": {
        "id": "p-lzqpKXTv-Q"
      }
    },
    {
      "cell_type": "code",
      "execution_count": 3,
      "metadata": {
        "colab": {
          "base_uri": "https://localhost:8080/"
        },
        "id": "7HEwRLOpTEUr",
        "outputId": "0f89e049-fb06-4bdb-f34b-797dbadd5665"
      },
      "outputs": [
        {
          "output_type": "stream",
          "name": "stdout",
          "text": [
            "Enter feet and inches of distance 1: 5 8\n",
            "Enter feet and inches of distance 2: 4 7\n",
            "Distance 1 is greater than distance 2\n",
            "The sum of the distances is: \n",
            "Feet =  10 Inches =  3\n"
          ]
        }
      ],
      "source": [
        "# distance is a class. Distance is measured in terms of feet and inches class distance:\n",
        "class distance:\n",
        "    def __init__(self, f, i):\n",
        "      self.feet = f\n",
        "      self.inches = i\n",
        "\n",
        "    # overloading of binary operator > to compare two distances\n",
        "    def __gt__(self, other):\n",
        "      if (self.feet > other.feet):\n",
        "        return True\n",
        "      elif (self.feet == other.feet) and (self.inches > other.inches):\n",
        "        return True\n",
        "      else:\n",
        "        return False\n",
        "\n",
        "    # overloading of binary operator + to add two distances\n",
        "    def __add__(self, other):\n",
        "      f = self.feet + other.feet\n",
        "      i = self.inches + other.inches\n",
        "      if (i >= 12):\n",
        "        i -= 12\n",
        "        f += 1\n",
        "      return distance(f, i)\n",
        "\n",
        "    # displaying the distance\n",
        "    def show(self):\n",
        "      print(\"Feet = \", self.feet, \"Inches = \", self.inches)\n",
        "\n",
        "a, b = (input(\"Enter feet and inches of distance 1: \")).split()\n",
        "a = int(a)\n",
        "b = int(b)\n",
        "c, d = (input(\"Enter feet and inches of distance 2: \")).split()\n",
        "c = int(c)\n",
        "d = int(d)\n",
        "d1 = distance(a, b)\n",
        "d2 = distance(c, d)\n",
        "\n",
        "if (d1 > d2):\n",
        "    print(\"Distance 1 is greater than distance 2\")\n",
        "else:\n",
        "    print(\"Distance 2 is greater than distance 1\")\n",
        "\n",
        "d3 = d1 + d2\n",
        "print(\"The sum of the distances is: \")\n",
        "d3.show()"
      ]
    },
    {
      "cell_type": "markdown",
      "source": [
        "**Testing and Observing Polymorphism**"
      ],
      "metadata": {
        "id": "UKj9t-ILY3_I"
      }
    },
    {
      "cell_type": "code",
      "source": [
        "class RegularPolygon:\n",
        "    def __init__ (self, side):\n",
        "      self._side = side\n",
        "class Square (RegularPolygon):\n",
        "    def area (self):\n",
        "        return self._side * self._side\n",
        "class EquilateralTriangle (RegularPolygon):\n",
        "    def area (self):\n",
        "        return self._side * self._side * 0.433\n",
        "\n",
        "obj1 = Square(4)\n",
        "obj2 = EquilateralTriangle(3)\n",
        "\n",
        "print(obj1.area())\n",
        "print(obj2.area())"
      ],
      "metadata": {
        "colab": {
          "base_uri": "https://localhost:8080/"
        },
        "id": "CwYqpBcIY_oA",
        "outputId": "8fdb32a1-05ee-44f1-f918-ab217aaa542a"
      },
      "execution_count": 6,
      "outputs": [
        {
          "output_type": "stream",
          "name": "stdout",
          "text": [
            "16\n",
            "3.897\n"
          ]
        }
      ]
    },
    {
      "cell_type": "markdown",
      "source": [
        "# Observation"
      ],
      "metadata": {
        "id": "83uEpW-O8_mv"
      }
    },
    {
      "cell_type": "markdown",
      "source": [
        "In this program, I noticed that the parent class or regular polygon was the supplied class. Then, by assigning a subclass of area to each polygon, the area of the regular polygon was calculated."
      ],
      "metadata": {
        "id": "hBEL1KGH9DMD"
      }
    },
    {
      "cell_type": "markdown",
      "source": [
        "# Supplementary Activity"
      ],
      "metadata": {
        "id": "YLNah94LaPJA"
      }
    },
    {
      "cell_type": "code",
      "source": [
        "import math\n",
        "\n",
        "class RegularPolygon:\n",
        "    def __init__(self, side):\n",
        "        self._side = side\n",
        "\n",
        "# Pentagon class (5 sides)\n",
        "class Pentagon(RegularPolygon):\n",
        "    def area(self):\n",
        "        return (5 / 4) * (self._side ** 2) * (1 / math.tan(math.pi / 5))\n",
        "\n",
        "# Hexagon class (6 sides)\n",
        "class Hexagon(RegularPolygon):\n",
        "    def area(self):\n",
        "        return (3 * math.sqrt(3) / 2) * (self._side ** 2)\n",
        "\n",
        "# Octagon class (8 sides)\n",
        "class Octagon(RegularPolygon):\n",
        "    def area(self):\n",
        "        return 2 * (1 + math.sqrt(2)) * (self._side ** 2)\n",
        "\n",
        "\n",
        "obj1 = Pentagon(5)\n",
        "obj2 = Hexagon(6)\n",
        "obj3 = Octagon(8)\n",
        "\n",
        "\n",
        "print(f\"Area of Pentagon: {obj1.area():.2f}\")\n",
        "print(f\"Area of Hexagon: {obj2.area():.2f}\")\n",
        "print(f\"Area of Octagon: {obj3.area():.2f}\")"
      ],
      "metadata": {
        "id": "lcaH-nWaaT7Q",
        "colab": {
          "base_uri": "https://localhost:8080/"
        },
        "outputId": "1392ee3c-43a4-47fa-9da2-758822e491e2"
      },
      "execution_count": 5,
      "outputs": [
        {
          "output_type": "stream",
          "name": "stdout",
          "text": [
            "Area of Pentagon: 43.01\n",
            "Area of Hexagon: 93.53\n",
            "Area of Octagon: 309.02\n"
          ]
        }
      ]
    }
  ]
}