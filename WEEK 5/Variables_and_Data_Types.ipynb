{
  "nbformat": 4,
  "nbformat_minor": 0,
  "metadata": {
    "colab": {
      "provenance": [],
      "collapsed_sections": [
        "kWf2zkR60Ol6",
        "czWx4nSg0uGK"
      ],
      "authorship_tag": "ABX9TyOUpFjYUk8pJiNAzdr399lv",
      "include_colab_link": true
    },
    "kernelspec": {
      "name": "python3",
      "display_name": "Python 3"
    },
    "language_info": {
      "name": "python"
    }
  },
  "cells": [
    {
      "cell_type": "markdown",
      "metadata": {
        "id": "view-in-github",
        "colab_type": "text"
      },
      "source": [
        "<a href=\"https://colab.research.google.com/github/Bryan-Villanueva/CPE-103-OOP-1-A/blob/main/Variables_and_Data_Types.ipynb\" target=\"_parent\"><img src=\"https://colab.research.google.com/assets/colab-badge.svg\" alt=\"Open In Colab\"/></a>"
      ]
    },
    {
      "cell_type": "markdown",
      "source": [
        "Numbers"
      ],
      "metadata": {
        "id": "kWf2zkR60Ol6"
      }
    },
    {
      "cell_type": "code",
      "execution_count": 56,
      "metadata": {
        "id": "7QpQgR7IzkY_"
      },
      "outputs": [],
      "source": [
        "varNum = 123\n",
        "pi = 3.14159"
      ]
    },
    {
      "cell_type": "markdown",
      "source": [
        "Strings"
      ],
      "metadata": {
        "id": "zg9h943Q0W1a"
      }
    },
    {
      "cell_type": "code",
      "source": [
        "varString = \"Hello World!\"\n",
        "varText = \"This is a String\""
      ],
      "metadata": {
        "id": "dmqejDvI0YWq"
      },
      "execution_count": 57,
      "outputs": []
    },
    {
      "cell_type": "markdown",
      "source": [
        "Lists"
      ],
      "metadata": {
        "id": "hG2iNn230iiW"
      }
    },
    {
      "cell_type": "code",
      "source": [
        "varList = [\"abc\" , 123]"
      ],
      "metadata": {
        "id": "mpiiGuWg0kIn"
      },
      "execution_count": 58,
      "outputs": []
    },
    {
      "cell_type": "markdown",
      "source": [
        "Tuples"
      ],
      "metadata": {
        "id": "czWx4nSg0uGK"
      }
    },
    {
      "cell_type": "code",
      "source": [
        "varTuple = ('abc', 123, \"HELLO\")"
      ],
      "metadata": {
        "id": "ZUCKORdq0wbB"
      },
      "execution_count": 59,
      "outputs": []
    },
    {
      "cell_type": "markdown",
      "source": [
        "Dictionaries"
      ],
      "metadata": {
        "id": "P6SkEteJ06tl"
      }
    },
    {
      "cell_type": "code",
      "source": [
        "var = 3\n",
        "varDict = {'first' :1, '2': '2nd', 3:var}"
      ],
      "metadata": {
        "id": "rtLHyhWG2P6T"
      },
      "execution_count": 60,
      "outputs": []
    },
    {
      "cell_type": "code",
      "source": [
        "varDict = {}\n",
        "varDict['first']= 1\n",
        "varDict['2'] = '2nd'\n",
        "varDict[3] = var"
      ],
      "metadata": {
        "id": "h9sCnBgQ1S2y"
      },
      "execution_count": 61,
      "outputs": []
    },
    {
      "cell_type": "markdown",
      "source": [
        "#Arithmetic"
      ],
      "metadata": {
        "id": "JxKtIdiy2gHG"
      }
    },
    {
      "cell_type": "code",
      "source": [
        "# Addition\n",
        "\n",
        "a = 5 + 3\n",
        "print(a)"
      ],
      "metadata": {
        "colab": {
          "base_uri": "https://localhost:8080/"
        },
        "id": "HdbLCca82jx2",
        "outputId": "9b34f372-2edb-4b23-d6e0-f19e7e114cb0"
      },
      "execution_count": 62,
      "outputs": [
        {
          "output_type": "stream",
          "name": "stdout",
          "text": [
            "8\n"
          ]
        }
      ]
    },
    {
      "cell_type": "code",
      "source": [
        "# Substraction\n",
        "\n",
        "a = 5 - 3\n",
        "print(a)"
      ],
      "metadata": {
        "colab": {
          "base_uri": "https://localhost:8080/"
        },
        "id": "3eon4puz21J4",
        "outputId": "5dc149bc-c711-4bb4-f43d-b4a0e02daeb7"
      },
      "execution_count": 63,
      "outputs": [
        {
          "output_type": "stream",
          "name": "stdout",
          "text": [
            "2\n"
          ]
        }
      ]
    },
    {
      "cell_type": "code",
      "source": [
        "# Multiplication\n",
        "\n",
        "a = 5 * 3\n",
        "print(a)"
      ],
      "metadata": {
        "colab": {
          "base_uri": "https://localhost:8080/"
        },
        "id": "8escJIjA21D4",
        "outputId": "d258ed2c-b477-402a-df2e-6c99f3236537"
      },
      "execution_count": 64,
      "outputs": [
        {
          "output_type": "stream",
          "name": "stdout",
          "text": [
            "15\n"
          ]
        }
      ]
    },
    {
      "cell_type": "code",
      "source": [
        "# Exponent\n",
        "\n",
        "a = 5 ** 3\n",
        "print(a)"
      ],
      "metadata": {
        "colab": {
          "base_uri": "https://localhost:8080/"
        },
        "id": "ttTfXq7y207w",
        "outputId": "49da14af-b6df-469d-8b29-d87f39138958"
      },
      "execution_count": 65,
      "outputs": [
        {
          "output_type": "stream",
          "name": "stdout",
          "text": [
            "125\n"
          ]
        }
      ]
    },
    {
      "cell_type": "code",
      "source": [
        "# Division\n",
        "\n",
        "a = 5 / 3\n",
        "print(a)"
      ],
      "metadata": {
        "colab": {
          "base_uri": "https://localhost:8080/"
        },
        "id": "8NlZpaTf20jw",
        "outputId": "cea35108-8665-4f6e-c373-8d189a696911"
      },
      "execution_count": 66,
      "outputs": [
        {
          "output_type": "stream",
          "name": "stdout",
          "text": [
            "1.6666666666666667\n"
          ]
        }
      ]
    },
    {
      "cell_type": "code",
      "source": [
        "# Modulus\n",
        "\n",
        "a = 5 % 3\n",
        "print(a)"
      ],
      "metadata": {
        "colab": {
          "base_uri": "https://localhost:8080/"
        },
        "id": "ctPgI13720Ww",
        "outputId": "a7322cc7-3d97-4427-b8fe-606b2a9c9d55"
      },
      "execution_count": 67,
      "outputs": [
        {
          "output_type": "stream",
          "name": "stdout",
          "text": [
            "2\n"
          ]
        }
      ]
    },
    {
      "cell_type": "code",
      "source": [
        "# Floor Division\n",
        "\n",
        "a = 5 // 3\n",
        "print(a)"
      ],
      "metadata": {
        "colab": {
          "base_uri": "https://localhost:8080/"
        },
        "id": "On4c05_x2yhI",
        "outputId": "e52bace9-1fd5-4d80-b61d-02a36240ba6d"
      },
      "execution_count": 68,
      "outputs": [
        {
          "output_type": "stream",
          "name": "stdout",
          "text": [
            "1\n"
          ]
        }
      ]
    },
    {
      "cell_type": "code",
      "source": [
        "# Increment\n",
        "\n",
        "a = 5\n",
        "a += 1\n",
        "\n",
        "print(a)"
      ],
      "metadata": {
        "colab": {
          "base_uri": "https://localhost:8080/"
        },
        "id": "9mWWPo0c3gaB",
        "outputId": "f6f3f2f8-baa6-4c81-9ec3-d6cf0b4ff55e"
      },
      "execution_count": 69,
      "outputs": [
        {
          "output_type": "stream",
          "name": "stdout",
          "text": [
            "6\n"
          ]
        }
      ]
    },
    {
      "cell_type": "code",
      "source": [
        "# Decrement\n",
        "\n",
        "a = 5\n",
        "a -= 1\n",
        "\n",
        "print(a)"
      ],
      "metadata": {
        "colab": {
          "base_uri": "https://localhost:8080/"
        },
        "id": "mAWPqpL03ulD",
        "outputId": "5fbbb5bd-0f7d-4b4d-f76f-9b11991e76a6"
      },
      "execution_count": 70,
      "outputs": [
        {
          "output_type": "stream",
          "name": "stdout",
          "text": [
            "4\n"
          ]
        }
      ]
    },
    {
      "cell_type": "code",
      "source": [
        "# String Concatenation\n",
        "\n",
        "a = \"Hello \" + \"World!\"\n",
        "print(a)"
      ],
      "metadata": {
        "colab": {
          "base_uri": "https://localhost:8080/"
        },
        "id": "5xVxyhpz32QY",
        "outputId": "749c6f9c-284e-46c1-c799-3ecc4fc6a2a2"
      },
      "execution_count": 71,
      "outputs": [
        {
          "output_type": "stream",
          "name": "stdout",
          "text": [
            "Hello World!\n"
          ]
        }
      ]
    },
    {
      "cell_type": "code",
      "source": [
        "# Complex Expressions\n",
        "\n",
        "a = 3 + 5 - 6 * 2 / 4\n",
        "print(a)"
      ],
      "metadata": {
        "colab": {
          "base_uri": "https://localhost:8080/"
        },
        "id": "pnS0ba6C38K-",
        "outputId": "50ac6d06-fda7-433c-bd12-a0a6139791d1"
      },
      "execution_count": 72,
      "outputs": [
        {
          "output_type": "stream",
          "name": "stdout",
          "text": [
            "5.0\n"
          ]
        }
      ]
    },
    {
      "cell_type": "markdown",
      "source": [
        "# Control Statements and Data Structures"
      ],
      "metadata": {
        "id": "rRUmmo3R4dLr"
      }
    },
    {
      "cell_type": "markdown",
      "source": [
        "Boolean Conditions"
      ],
      "metadata": {
        "id": "Lfepdw5o5J9t"
      }
    },
    {
      "cell_type": "code",
      "source": [
        "# Boolean Conditions\n",
        "\n",
        "x = True\n",
        "\n",
        "if x:\n",
        "  print(\"var x is True\")\n",
        "else:\n",
        "  print(\"var x is False\")"
      ],
      "metadata": {
        "colab": {
          "base_uri": "https://localhost:8080/"
        },
        "id": "aDzoEzqq4j6-",
        "outputId": "f0ffef54-7d50-45f3-dd82-d0986f36942f"
      },
      "execution_count": 73,
      "outputs": [
        {
          "output_type": "stream",
          "name": "stdout",
          "text": [
            "var x is True\n"
          ]
        }
      ]
    },
    {
      "cell_type": "markdown",
      "source": [
        "String Conditions"
      ],
      "metadata": {
        "id": "e24Iq79a5NXM"
      }
    },
    {
      "cell_type": "code",
      "source": [
        "# String Conditions\n",
        "\n",
        "x = \"Hello World!\"\n",
        "\n",
        "if x == 'Hello World!':\n",
        "  print(\"var x is Hello World!\")\n",
        "else:\n",
        "  print(\"var x is not Hello World!\")"
      ],
      "metadata": {
        "colab": {
          "base_uri": "https://localhost:8080/"
        },
        "id": "k6bVBNtd4zey",
        "outputId": "8b14f404-39ee-4fa0-ca8e-33bc483da33a"
      },
      "execution_count": 74,
      "outputs": [
        {
          "output_type": "stream",
          "name": "stdout",
          "text": [
            "var x is Hello World!\n"
          ]
        }
      ]
    },
    {
      "cell_type": "markdown",
      "source": [
        "Numerical Conditions"
      ],
      "metadata": {
        "id": "4bmSuwGI5Qgg"
      }
    },
    {
      "cell_type": "code",
      "source": [
        "# Numerical Conditions\n",
        "\n",
        "x = 10\n",
        "\n",
        "if x == '10':\n",
        "  print(\"var x is a string\")\n",
        "elif x == 10:\n",
        "  print(\"var x is an integer\")\n",
        "else:\n",
        "  print(\"var x is none of the above\")"
      ],
      "metadata": {
        "colab": {
          "base_uri": "https://localhost:8080/"
        },
        "id": "tpoJ87Fk47lZ",
        "outputId": "f0ee6d7f-dc3f-47aa-c179-369578a6df9b"
      },
      "execution_count": 75,
      "outputs": [
        {
          "output_type": "stream",
          "name": "stdout",
          "text": [
            "var x is an integer\n"
          ]
        }
      ]
    },
    {
      "cell_type": "markdown",
      "source": [
        "# Loops"
      ],
      "metadata": {
        "id": "n0agFDxY5l9q"
      }
    },
    {
      "cell_type": "markdown",
      "source": [
        "For Loops"
      ],
      "metadata": {
        "id": "Kz3RhVQ25neq"
      }
    },
    {
      "cell_type": "code",
      "source": [
        "for var in range(0, 5, 2):\n",
        "  print(var)"
      ],
      "metadata": {
        "colab": {
          "base_uri": "https://localhost:8080/"
        },
        "id": "DMAaehEA5pa5",
        "outputId": "a6d7ab82-80eb-43a7-d848-235ddc58213a"
      },
      "execution_count": 76,
      "outputs": [
        {
          "output_type": "stream",
          "name": "stdout",
          "text": [
            "0\n",
            "2\n",
            "4\n"
          ]
        }
      ]
    },
    {
      "cell_type": "markdown",
      "source": [
        "While Loops"
      ],
      "metadata": {
        "id": "rHd6_sRH5sbM"
      }
    },
    {
      "cell_type": "code",
      "source": [
        "var = 0\n",
        "while var < 5:\n",
        "  print(var)\n",
        "  var += 2"
      ],
      "metadata": {
        "colab": {
          "base_uri": "https://localhost:8080/"
        },
        "id": "MWO-XxSO5uI8",
        "outputId": "9f9cca13-4ec0-4b90-b65a-61d47bd81f30"
      },
      "execution_count": 77,
      "outputs": [
        {
          "output_type": "stream",
          "name": "stdout",
          "text": [
            "0\n",
            "2\n",
            "4\n"
          ]
        }
      ]
    },
    {
      "cell_type": "markdown",
      "source": [
        "Nested Loops"
      ],
      "metadata": {
        "id": "qpvLexn657Cn"
      }
    },
    {
      "cell_type": "code",
      "source": [
        "x = 0\n",
        "while x < 5:\n",
        "  for y in range (0, x):\n",
        "   print(y, end='')\n",
        "  x += 1\n",
        "  print()"
      ],
      "metadata": {
        "colab": {
          "base_uri": "https://localhost:8080/"
        },
        "id": "_4BTN1lp5-R2",
        "outputId": "eeac94f5-a680-41be-ef62-9fce3b033724"
      },
      "execution_count": 78,
      "outputs": [
        {
          "output_type": "stream",
          "name": "stdout",
          "text": [
            "\n",
            "0\n",
            "01\n",
            "012\n",
            "0123\n"
          ]
        }
      ]
    },
    {
      "cell_type": "markdown",
      "source": [
        "**Note: The loop declaration ends with a\n",
        "colon (:) while its contents inside\n",
        "are indented**"
      ],
      "metadata": {
        "id": "3t04_0NS6SDY"
      }
    },
    {
      "cell_type": "markdown",
      "source": [
        "# Functions"
      ],
      "metadata": {
        "id": "76lGCq4N6swd"
      }
    },
    {
      "cell_type": "code",
      "source": [
        "def remainder(n, m):\n",
        "  while True:\n",
        "    if n - m < 0:\n",
        "      return n\n",
        "    else:\n",
        "        n= n - m\n",
        "\n",
        "remainder(10, 4)"
      ],
      "metadata": {
        "colab": {
          "base_uri": "https://localhost:8080/"
        },
        "id": "yJh1Nqmt6rDU",
        "outputId": "9da51361-ccc8-45e1-b3d0-10433dab7ab0"
      },
      "execution_count": null,
      "outputs": [
        {
          "output_type": "execute_result",
          "data": {
            "text/plain": [
              "2"
            ]
          },
          "metadata": {},
          "execution_count": 9
        }
      ]
    },
    {
      "cell_type": "markdown",
      "source": [
        "**Note: Functions are defined with the keyword\n",
        "def before the function name. Similar to\n",
        "loops, the function definition ends with a\n",
        "colon (:) while its contents inside are\n",
        "indented**"
      ],
      "metadata": {
        "id": "Ef-fSMT-9ISZ"
      }
    },
    {
      "cell_type": "markdown",
      "source": [
        "#Lists"
      ],
      "metadata": {
        "id": "Ly8mQJnr_bIA"
      }
    },
    {
      "cell_type": "code",
      "source": [
        "pi = 3.14159\n",
        "varList = [1, 2, 'A', 'B', 'Hello!', pi]\n",
        "print(varList[0])"
      ],
      "metadata": {
        "colab": {
          "base_uri": "https://localhost:8080/"
        },
        "id": "k6gnXbmB_dzS",
        "outputId": "b8fed51f-2fbc-4d86-b83f-fe676b65d0fd"
      },
      "execution_count": 33,
      "outputs": [
        {
          "output_type": "stream",
          "name": "stdout",
          "text": [
            "1\n"
          ]
        }
      ]
    },
    {
      "cell_type": "code",
      "source": [
        "print(varList[4])"
      ],
      "metadata": {
        "colab": {
          "base_uri": "https://localhost:8080/"
        },
        "id": "4e70pR-__lqB",
        "outputId": "076c4385-5dd5-4a9d-f961-5a39c2b5816f"
      },
      "execution_count": null,
      "outputs": [
        {
          "output_type": "stream",
          "name": "stdout",
          "text": [
            "Hello!\n"
          ]
        }
      ]
    },
    {
      "cell_type": "code",
      "source": [
        "varList.append('World!')\n",
        "print(varList[6])"
      ],
      "metadata": {
        "colab": {
          "base_uri": "https://localhost:8080/"
        },
        "id": "Gb-uPh6J_pOh",
        "outputId": "5c3f219a-3009-40e7-8f92-ebfd858cc777"
      },
      "execution_count": 34,
      "outputs": [
        {
          "output_type": "stream",
          "name": "stdout",
          "text": [
            "World!\n"
          ]
        }
      ]
    },
    {
      "cell_type": "code",
      "source": [
        "len(varList)"
      ],
      "metadata": {
        "colab": {
          "base_uri": "https://localhost:8080/"
        },
        "id": "r2fvogKn_sjz",
        "outputId": "554a4b1b-c19e-40d9-c90c-42f05074d2f9"
      },
      "execution_count": null,
      "outputs": [
        {
          "output_type": "execute_result",
          "data": {
            "text/plain": [
              "7"
            ]
          },
          "metadata": {},
          "execution_count": 13
        }
      ]
    },
    {
      "cell_type": "code",
      "source": [
        "print(varList[5])"
      ],
      "metadata": {
        "colab": {
          "base_uri": "https://localhost:8080/"
        },
        "id": "nF9oRUjj_t5T",
        "outputId": "79566750-3611-4957-9b7a-61cef337f396"
      },
      "execution_count": null,
      "outputs": [
        {
          "output_type": "stream",
          "name": "stdout",
          "text": [
            "World!\n"
          ]
        }
      ]
    },
    {
      "cell_type": "code",
      "source": [
        "varList.remove(pi)\n",
        "print(varList[5])"
      ],
      "metadata": {
        "colab": {
          "base_uri": "https://localhost:8080/"
        },
        "id": "OL05sFDe_w9b",
        "outputId": "68f9cdaa-f6f4-492c-c432-3cf9a36ed89e"
      },
      "execution_count": 36,
      "outputs": [
        {
          "output_type": "stream",
          "name": "stdout",
          "text": [
            "World!\n"
          ]
        }
      ]
    },
    {
      "cell_type": "markdown",
      "source": [
        "**Note: Lists starts with an index of 0.\n",
        "The remove() method erases the\n",
        "first value that matches the\n",
        "parameter.**"
      ],
      "metadata": {
        "id": "NbkGIfEA_yac"
      }
    },
    {
      "cell_type": "markdown",
      "source": [
        "# Dictionaries"
      ],
      "metadata": {
        "id": "AO3LMiiiBYtt"
      }
    },
    {
      "cell_type": "code",
      "source": [
        "var = \"Hello World!\"\n",
        "varDict = {'first' : 123, 2 : 'abc',\n",
        "'3' : var, 4 : ['lista', 'listb']}\n",
        "print(varDict['first'])"
      ],
      "metadata": {
        "colab": {
          "base_uri": "https://localhost:8080/"
        },
        "id": "1rhd3rFbBbqN",
        "outputId": "048e60a2-4b15-47de-c2d3-eef160127ae2"
      },
      "execution_count": 37,
      "outputs": [
        {
          "output_type": "stream",
          "name": "stdout",
          "text": [
            "123\n"
          ]
        }
      ]
    },
    {
      "cell_type": "code",
      "source": [
        "print(varDict[2])"
      ],
      "metadata": {
        "colab": {
          "base_uri": "https://localhost:8080/"
        },
        "id": "fD8DMedMBfpt",
        "outputId": "b71989e9-9546-4374-afd3-744893f050c6"
      },
      "execution_count": 38,
      "outputs": [
        {
          "output_type": "stream",
          "name": "stdout",
          "text": [
            "abc\n"
          ]
        }
      ]
    },
    {
      "cell_type": "code",
      "source": [
        "print(varDict['3'])"
      ],
      "metadata": {
        "colab": {
          "base_uri": "https://localhost:8080/"
        },
        "id": "tEKYzubnBim3",
        "outputId": "b880ac30-9cb1-4753-edfa-472a6aff2781"
      },
      "execution_count": 39,
      "outputs": [
        {
          "output_type": "stream",
          "name": "stdout",
          "text": [
            "Hello World!\n"
          ]
        }
      ]
    },
    {
      "cell_type": "code",
      "source": [
        "print(varDict[4])"
      ],
      "metadata": {
        "colab": {
          "base_uri": "https://localhost:8080/"
        },
        "id": "iJa5GUFxBjuu",
        "outputId": "cc69154c-7b34-4df1-b17b-c695c0d59578"
      },
      "execution_count": 40,
      "outputs": [
        {
          "output_type": "stream",
          "name": "stdout",
          "text": [
            "['lista', 'listb']\n"
          ]
        }
      ]
    },
    {
      "cell_type": "code",
      "source": [
        "print(varDict[4][1])"
      ],
      "metadata": {
        "colab": {
          "base_uri": "https://localhost:8080/"
        },
        "id": "1rG2Sz3_Bk6X",
        "outputId": "9c7ded07-fbdf-42bc-ade6-37f4642048b4"
      },
      "execution_count": 41,
      "outputs": [
        {
          "output_type": "stream",
          "name": "stdout",
          "text": [
            "listb\n"
          ]
        }
      ]
    },
    {
      "cell_type": "code",
      "source": [
        "len(varDict)"
      ],
      "metadata": {
        "colab": {
          "base_uri": "https://localhost:8080/"
        },
        "id": "Rx5xpo5ABmeu",
        "outputId": "4aceb99a-2c3b-4b6b-f1ce-7f29441adc72"
      },
      "execution_count": 42,
      "outputs": [
        {
          "output_type": "execute_result",
          "data": {
            "text/plain": [
              "4"
            ]
          },
          "metadata": {},
          "execution_count": 42
        }
      ]
    },
    {
      "cell_type": "markdown",
      "source": [
        "# List Generators and Comprehension"
      ],
      "metadata": {
        "id": "iCwauklCB-OY"
      }
    },
    {
      "cell_type": "code",
      "source": [
        "def gen_num_up_to(n):\n",
        "    num = 0\n",
        "    while num < n:\n",
        "        yield num\n",
        "        num += 1"
      ],
      "metadata": {
        "id": "a2d7jsPBCEGw"
      },
      "execution_count": 49,
      "outputs": []
    },
    {
      "cell_type": "code",
      "source": [
        "gen_num_up_to(5)"
      ],
      "metadata": {
        "colab": {
          "base_uri": "https://localhost:8080/"
        },
        "id": "oYM1LhMfCGUR",
        "outputId": "e76eb6f2-cd47-4997-9e16-abc743ec09c1"
      },
      "execution_count": 47,
      "outputs": [
        {
          "output_type": "execute_result",
          "data": {
            "text/plain": [
              "<generator object gen_num_up_to at 0x7c639256d3c0>"
            ]
          },
          "metadata": {},
          "execution_count": 47
        }
      ]
    },
    {
      "cell_type": "markdown",
      "source": [
        "**Note: This creates an object**"
      ],
      "metadata": {
        "id": "RwLfcqAHCXgJ"
      }
    },
    {
      "cell_type": "code",
      "source": [
        "varList = gen_num_up_to(5)\n",
        "print([var for var in varList])"
      ],
      "metadata": {
        "colab": {
          "base_uri": "https://localhost:8080/"
        },
        "id": "d52D4Z0uCKe5",
        "outputId": "87976b4c-d502-4462-8025-4a31fefb23e5"
      },
      "execution_count": 46,
      "outputs": [
        {
          "output_type": "stream",
          "name": "stdout",
          "text": [
            "[0, 2, 4]\n"
          ]
        }
      ]
    },
    {
      "cell_type": "code",
      "source": [
        "def gen_num_up_to(n):\n",
        "    num = 0\n",
        "    while num < n:\n",
        "        yield num\n",
        "        num += 2\n",
        "\n",
        "varList = gen_num_up_to(5)\n",
        "print([var for var in varList])"
      ],
      "metadata": {
        "colab": {
          "base_uri": "https://localhost:8080/"
        },
        "id": "9yIhag4dCLGI",
        "outputId": "0ae80d3d-e3a9-4876-e83b-763bb98e90f9"
      },
      "execution_count": 45,
      "outputs": [
        {
          "output_type": "stream",
          "name": "stdout",
          "text": [
            "[0, 2, 4]\n"
          ]
        }
      ]
    },
    {
      "cell_type": "code",
      "source": [
        "varList = range(0, 5, 2)\n",
        "print([var for var in varList])"
      ],
      "metadata": {
        "colab": {
          "base_uri": "https://localhost:8080/"
        },
        "id": "0WeTbuD1COFx",
        "outputId": "6d76cda4-1c88-489f-f4dd-36487d725242"
      },
      "execution_count": 43,
      "outputs": [
        {
          "output_type": "stream",
          "name": "stdout",
          "text": [
            "[0, 2, 4]\n"
          ]
        }
      ]
    },
    {
      "cell_type": "markdown",
      "source": [
        "**Note: Python's built in range function\n",
        "range([start], stop, [step])**"
      ],
      "metadata": {
        "id": "kcayWYcZCiWj"
      }
    },
    {
      "cell_type": "markdown",
      "source": [
        "# Slicing"
      ],
      "metadata": {
        "id": "MhJQCf9ICpeK"
      }
    },
    {
      "cell_type": "code",
      "source": [
        "varList = [1, 2, 3, 4, 5, 6, 7, 8, 9, 10]\n",
        "print(varList[:5])"
      ],
      "metadata": {
        "colab": {
          "base_uri": "https://localhost:8080/"
        },
        "id": "MDw8BwRjDUnO",
        "outputId": "e1b33cff-6cb4-4191-dfc6-5ecf3a5e5115"
      },
      "execution_count": 50,
      "outputs": [
        {
          "output_type": "stream",
          "name": "stdout",
          "text": [
            "[1, 2, 3, 4, 5]\n"
          ]
        }
      ]
    },
    {
      "cell_type": "code",
      "source": [
        "print(varList[5:])"
      ],
      "metadata": {
        "colab": {
          "base_uri": "https://localhost:8080/"
        },
        "id": "GNSh4oWkDVXe",
        "outputId": "d6b17042-abc1-4259-fe2b-36f957fbc616"
      },
      "execution_count": 51,
      "outputs": [
        {
          "output_type": "stream",
          "name": "stdout",
          "text": [
            "[6, 7, 8, 9, 10]\n"
          ]
        }
      ]
    },
    {
      "cell_type": "code",
      "source": [
        "print(varList[ :- 2])"
      ],
      "metadata": {
        "colab": {
          "base_uri": "https://localhost:8080/"
        },
        "id": "px_GPwyEDXgH",
        "outputId": "0aa13a73-888c-4f89-d5ce-e62ba23ae1ae"
      },
      "execution_count": 52,
      "outputs": [
        {
          "output_type": "stream",
          "name": "stdout",
          "text": [
            "[1, 2, 3, 4, 5, 6, 7, 8]\n"
          ]
        }
      ]
    },
    {
      "cell_type": "code",
      "source": [
        "print(varList[-2:])"
      ],
      "metadata": {
        "colab": {
          "base_uri": "https://localhost:8080/"
        },
        "id": "yARP866hDZAH",
        "outputId": "2f6fd3b2-0f58-42fc-f38f-12d95e5ffd9c"
      },
      "execution_count": 53,
      "outputs": [
        {
          "output_type": "stream",
          "name": "stdout",
          "text": [
            "[9, 10]\n"
          ]
        }
      ]
    },
    {
      "cell_type": "code",
      "source": [
        "print(varList[2 :- 2])"
      ],
      "metadata": {
        "colab": {
          "base_uri": "https://localhost:8080/"
        },
        "id": "BazjdGFlDadf",
        "outputId": "c4843658-f2f6-421b-afe0-d22925825a52"
      },
      "execution_count": 54,
      "outputs": [
        {
          "output_type": "stream",
          "name": "stdout",
          "text": [
            "[3, 4, 5, 6, 7, 8]\n"
          ]
        }
      ]
    },
    {
      "cell_type": "code",
      "source": [
        "print(varList[2:8:2])"
      ],
      "metadata": {
        "colab": {
          "base_uri": "https://localhost:8080/"
        },
        "id": "8wIRE4oODbs3",
        "outputId": "fd261038-9d90-4912-f2fd-dc6e25a6896b"
      },
      "execution_count": 55,
      "outputs": [
        {
          "output_type": "stream",
          "name": "stdout",
          "text": [
            "[3, 5, 7]\n"
          ]
        }
      ]
    },
    {
      "cell_type": "markdown",
      "source": [
        "**Note:\n",
        "\n",
        "list( start : )\n",
        "\n",
        "list( : end )\n",
        "\n",
        "list( start : end )\n",
        "\n",
        "list( start : end : step )**"
      ],
      "metadata": {
        "id": "UlZDP87kDdpW"
      }
    }
  ]
}